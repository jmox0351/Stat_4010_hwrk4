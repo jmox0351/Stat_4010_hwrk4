{
 "cells": [
  {
   "cell_type": "markdown",
   "metadata": {},
   "source": [
    "---"
   ]
  },
  {
   "cell_type": "markdown",
   "metadata": {
    "deletable": false,
    "editable": false,
    "nbgrader": {
     "cell_type": "markdown",
     "checksum": "03eb18a94bdd64cbf94b1dbaeb43a996",
     "grade": false,
     "grade_id": "cell-e431bbf33c8255b2",
     "locked": true,
     "schema_version": 3,
     "solution": false,
     "task": false
    }
   },
   "source": [
    "# Homework #4\n",
    "\n",
    "**See Canvas for HW #4 assignment due date**. Complete all of the following problems. Ideally, the theoretical problems should be answered in a Markdown cell directly underneath the question. If you don't know LaTex/Markdown, you may submit separate handwritten solutions to the theoretical problems. Please do not turn in messy work. Computational problems should be completed in this notebook (using the R kernel is preferred). Computational questions may require code, plots, analysis, interpretation, etc. Working in small groups is allowed, but it is important that you make an effort to master the material and hand in your own work. \n",
    "\n"
   ]
  },
  {
   "cell_type": "markdown",
   "metadata": {
    "deletable": false,
    "editable": false,
    "nbgrader": {
     "cell_type": "markdown",
     "checksum": "54d4ecbc559c9064d9b9c28174804e99",
     "grade": false,
     "grade_id": "cell-d6ef34ab9bda95b1",
     "locked": true,
     "schema_version": 3,
     "solution": false,
     "task": false
    }
   },
   "source": [
    "## A. Theoretical Problems"
   ]
  },
  {
   "cell_type": "markdown",
   "metadata": {
    "deletable": false,
    "editable": false,
    "nbgrader": {
     "cell_type": "markdown",
     "checksum": "ecd158614559ae09b2342bb5382ba795",
     "grade": false,
     "grade_id": "cell-02eee4b572de59a1",
     "locked": true,
     "schema_version": 3,
     "solution": false,
     "task": false
    }
   },
   "source": [
    "### Problem A.1\n",
    "\n",
    "#### (a) Prove that $TSS = RSS + ESS$. Recall that $TSS$ is the total sum of squares, $RSS$ is the residual sum of squares, and $ESS$ is the explained (or model or regression) sum of squares. (HINT: you might start with TSS and add a fancy form of 0 somewhere.)\n"
   ]
  },
  {
   "cell_type": "markdown",
   "metadata": {},
   "source": [
    "$TSS = \\sum_{i=1}^n (y_i - \\bar{y})^2$ so completing the square (your clever form of 0) we find $\\sum_{i=1}^n (y_i - \\hat{y}_i + \\hat{y}_i - \\bar{y})^2 = \\sum_{i=1}^n (y_i - \\hat{y}_i)^2 + 2 \\sum_{i=1}^n (y_i - \\hat{y}_i)(\\hat{y}_i - \\bar{y}) + \\sum_{i=1}^n (\\hat{y}_i - \\bar{y})^2 = RSS + ESS + \\sum_{i=1}^n (y_i - \\hat{y}_i)(\\hat{y}_i - \\bar{y})$ Now graphically we know that TSS = RSS + ESS so we need to show that $0 = \\sum_{i=1}^n (y_i - \\hat{y}_i)(\\hat{y}_i - \\bar{y}) = \\sum_{i=1}^n (y_i - \\beta_0 - \\beta_1 x_i)(\\beta_0 + \\beta_1 x_i - \\bar{y})$ This is exactly what we did in homework 3 problem A.2 where we found the partial derivatives and set them equal to 0, which is the mechanism for least squares."
   ]
  },
  {
   "cell_type": "markdown",
   "metadata": {
    "deletable": false,
    "nbgrader": {
     "cell_type": "markdown",
     "checksum": "982424bd3f23feea55c47901b7320bc8",
     "grade": true,
     "grade_id": "cell-40602ca054641faa",
     "locked": false,
     "points": 10,
     "schema_version": 3,
     "solution": true,
     "task": false
    }
   },
   "source": [
    "YOUR ANSWER HERE"
   ]
  },
  {
   "cell_type": "markdown",
   "metadata": {
    "deletable": false,
    "editable": false,
    "nbgrader": {
     "cell_type": "markdown",
     "checksum": "68fa84943b19cdd059526a0304f1b1df",
     "grade": false,
     "grade_id": "cell-76bc7224bc21ce2c",
     "locked": true,
     "schema_version": 3,
     "solution": false,
     "task": false
    }
   },
   "source": [
    "#### (b) Why is the result from part (a) important?"
   ]
  },
  {
   "cell_type": "markdown",
   "metadata": {
    "deletable": false,
    "nbgrader": {
     "cell_type": "markdown",
     "checksum": "72b53138da997a7089f5b79e0785c0e3",
     "grade": true,
     "grade_id": "cell-37f42a78808a8bdd",
     "locked": false,
     "points": 0,
     "schema_version": 3,
     "solution": true,
     "task": false
    }
   },
   "source": [
    "This is proof that the linear model is an unbiased estimator...come back to this one"
   ]
  },
  {
   "cell_type": "markdown",
   "metadata": {
    "deletable": false,
    "editable": false,
    "nbgrader": {
     "cell_type": "markdown",
     "checksum": "6c130fc10aae2243a2fd280c1286dbf8",
     "grade": false,
     "grade_id": "cell-2ef516f9e848ea91",
     "locked": true,
     "schema_version": 3,
     "solution": false,
     "task": false
    }
   },
   "source": [
    "### Problem A.2\n",
    "\n",
    "In class, we derived the prediction interval for a new observation of the response, ${Y}^*$, at a new set of predictors, $\\mathbf{x}^* = (1,x^*_1,...,x^*_p)^T$.  To do so, we had to write down the variance of our point estimate for $Y^*$, denoted $\\widehat{Y}^*$:\n",
    "\n",
    "\\begin{align*}\n",
    "Var(\\widehat{Y}^*) = Var(\\mathbf{x}^{*^T}\\boldsymbol{\\widehat\\beta}) = \\sigma^2\\big(1 + \\mathbf{x}^{*^T}(X^TX)^{-1}\\mathbf{x}^{*}\\big).\n",
    "\\end{align*}\n",
    "\n",
    "For this problem, let's calculate this variance explicitly for simple linear regression (i.e., one predictor: $Y_i = \\beta_0 + \\beta_1x_i + \\varepsilon_i$).\n",
    "\n",
    "#### (a) Assume that $$Cov(\\widehat\\beta_0, \\widehat\\beta_1) = \\frac{-\\sigma^2\\bar{x}}{\\sum^n_{i=1}(x_i-\\bar{x})^2}.$$\n",
    "\n",
    "#### Show that\n",
    "\n",
    "$$Var(\\widehat\\beta_0 + \\widehat\\beta_1x^* + \\varepsilon) = \\sigma^2\\bigg(1 + \\frac{1}{n} + \\frac{(x^* - \\bar{x})^2}{\\sum^n_{i=1}(x_i-\\bar{x})^2} \\bigg) $$ \n",
    "#### where $\\varepsilon \\sim N(0,\\sigma^2)$.\n",
    "\n",
    "\n",
    "HINT: Recall that, if $X$ and $Y$ are random variables and $a$ and $b$ are constants, then $$Var(aX \\pm bY) = a^2Var(X) + b^2Var(Y) \\pm 2abCov(X,Y).$$"
   ]
  },
  {
   "cell_type": "markdown",
   "metadata": {
    "deletable": false,
    "nbgrader": {
     "cell_type": "markdown",
     "checksum": "a22d83c5e4efa20fccaa8947408634c5",
     "grade": true,
     "grade_id": "cell-1ca921781e5dba91",
     "locked": false,
     "points": 4,
     "schema_version": 3,
     "solution": true,
     "task": false
    }
   },
   "source": [
    "from hereon $\\sum_{i=1}^n (x_i - \\bar{x})^2 = s_{xx}$ for the sake of clarity. Then $$Var(\\hat{y}_i) = E(\\hat{y}_i - \\hat{y})^2$$ $$ = E((\\hat{\\beta_0} - \\beta_0)+(x_i - \\bar{x})(\\hat{\\beta_1}-\\beta_1)+(\\hat{\\beta_1}-\\beta_1) \\bar{x} - \\epsilon)^2$$ $$ = Var(\\hat{\\beta_0}) + (x_0 - \\bar{x})^2 Var(\\hat{\\beta_1}) + \\bar{x}^2 Var(\\beta_1) + Var(\\epsilon) + 2(x_i - \\bar{x}) Cov(\\hat{\\beta_0}, \\hat{\\beta_1}) + 2 \\bar{x} Cov(\\hat{\\beta_0}, \\hat{\\beta_1}) + 2(x_i - \\bar{x}) Var(\\beta_1)$$ $$ = Var(\\hat{\\beta_0}) + x_i^2 Var(\\hat{\\beta_1}) + Var(\\epsilon) + 2x_i Cov(\\hat{\\beta_0}, \\hat{\\beta_1})$$ $$ = \\sigma^2 (\\frac{1}{n} + \\frac{\\bar{x}^2}{s_{xx}}) + x_i^2 \\frac{\\sigma^2}{s_{xx}} + \\sigma^2 - 2x_i \\frac{\\bar{x} \\sigma^2}{s_{xx}}$$ $$ = \\sigma^2 (1+ \\frac{1}{n} + \\frac{(x_i - \\bar{x})^2}{s_{xx}})$$"
   ]
  },
  {
   "cell_type": "markdown",
   "metadata": {
    "deletable": false,
    "editable": false,
    "nbgrader": {
     "cell_type": "markdown",
     "checksum": "f9b9aa4d17cd5da824f33dec1e5df073",
     "grade": false,
     "grade_id": "cell-3420e3b032d6351c",
     "locked": true,
     "schema_version": 3,
     "solution": false,
     "task": false
    }
   },
   "source": [
    "#### (b)  <span style=\"color: #CFB87C;\">(STAT 5010 Students Only)</span> Show that $$Cov(\\widehat\\beta_0, \\widehat\\beta_1) = \\frac{-\\sigma^2\\bar{x}}{\\sum^n_{i=1}(x_i-\\bar{x})^2}.$$\n",
    "\n",
    "HINT: What is $(X^TX)^{-1}$ for simple linear regression?"
   ]
  },
  {
   "cell_type": "markdown",
   "metadata": {
    "deletable": false,
    "nbgrader": {
     "cell_type": "markdown",
     "checksum": "9165af94ed8fdd539a5653f79c3d8c4e",
     "grade": true,
     "grade_id": "cell-08edbe3e286b0738",
     "locked": false,
     "points": 4,
     "schema_version": 3,
     "solution": true,
     "task": false
    }
   },
   "source": [
    "YOUR ANSWER HERE"
   ]
  },
  {
   "cell_type": "markdown",
   "metadata": {
    "deletable": false,
    "editable": false,
    "nbgrader": {
     "cell_type": "markdown",
     "checksum": "2755a8760a5d0886bae8841644cb0e3a",
     "grade": false,
     "grade_id": "cell-7daaf7feed1b17f3",
     "locked": true,
     "schema_version": 3,
     "solution": false,
     "task": false
    }
   },
   "source": [
    "### Problem A.3\n",
    "\n",
    "Consider the following two models:\n",
    "\n",
    "\\begin{equation}\n",
    "Y_i = \\beta_0 + \\beta_1X_{i,1} + ... + \\beta_{p}X_{i,p} + \\varepsilon_i, \\,\\,\\,\\,\\,\\,\\, \\text{(M1)}\n",
    "\\end{equation}\n",
    "\n",
    "and\n",
    "\n",
    "\\begin{equation}\n",
    "Y_i = \\beta_0 + \\beta_1X_{i,1} + ... + \\beta_{p}X_{i,p} + \\beta_{p+1}X_{i,(p+1)} + \\varepsilon_i. \\,\\,\\,\\,\\,\\,\\, \\text{(M2)}\n",
    "\\end{equation}\n",
    "\n",
    "\n",
    "Show that $R^2$ for M2 is always greater than $R^2$ for M1, no matter what the added predictor is."
   ]
  },
  {
   "cell_type": "markdown",
   "metadata": {
    "deletable": false,
    "nbgrader": {
     "cell_type": "markdown",
     "checksum": "ee5c880cacf144d4c6174cf1cf231d62",
     "grade": true,
     "grade_id": "cell-0ef21c2d97bf4265",
     "locked": false,
     "points": 8,
     "schema_version": 3,
     "solution": true,
     "task": false
    }
   },
   "source": [
    "YOUR ANSWER HERE"
   ]
  },
  {
   "cell_type": "markdown",
   "metadata": {
    "deletable": false,
    "editable": false,
    "nbgrader": {
     "cell_type": "markdown",
     "checksum": "bf97f6c4431bf4a99716753ec4463fd0",
     "grade": false,
     "grade_id": "cell-13e67f38bd0b2fe2",
     "locked": true,
     "schema_version": 3,
     "solution": false,
     "task": false
    }
   },
   "source": [
    "## B. Computational Problems"
   ]
  },
  {
   "cell_type": "markdown",
   "metadata": {
    "deletable": false,
    "editable": false,
    "nbgrader": {
     "cell_type": "markdown",
     "checksum": "ef2f2b40b8c66eb774616a4d9c70fead",
     "grade": false,
     "grade_id": "cell-ee301cf263dd3220",
     "locked": true,
     "schema_version": 3,
     "solution": false,
     "task": false
    }
   },
   "source": [
    "### Problem B.1\n",
    "\n",
    "#### (a) Load the ${\\tt prostate}$ data into R using the faraway package. The prostate data frame has 97 rows and 9 columns. It comes from a study on 97 men with prostate cancer who were due to receive a radical prostatectomy. Print the head of the data and summary statistics."
   ]
  },
  {
   "cell_type": "code",
   "execution_count": 6,
   "metadata": {
    "ExecuteTime": {
     "end_time": "2020-02-19T21:26:39.781533Z",
     "start_time": "2020-02-19T21:26:40.957Z"
    },
    "deletable": false,
    "nbgrader": {
     "cell_type": "code",
     "checksum": "29ef74db54887444cf2923dcf836f8dc",
     "grade": false,
     "grade_id": "cell-928d2aa675439693",
     "locked": false,
     "schema_version": 3,
     "solution": true,
     "task": false
    },
    "scrolled": true
   },
   "outputs": [
    {
     "data": {
      "text/html": [
       "<table>\n",
       "<thead><tr><th scope=col>lcavol</th><th scope=col>lweight</th><th scope=col>age</th><th scope=col>lbph</th><th scope=col>svi</th><th scope=col>lcp</th><th scope=col>gleason</th><th scope=col>pgg45</th><th scope=col>lpsa</th></tr></thead>\n",
       "<tbody>\n",
       "\t<tr><td>-0.5798185</td><td>2.7695    </td><td>50        </td><td>-1.386294 </td><td>0         </td><td>-1.38629  </td><td>6         </td><td> 0        </td><td>-0.43078  </td></tr>\n",
       "\t<tr><td>-0.9942523</td><td>3.3196    </td><td>58        </td><td>-1.386294 </td><td>0         </td><td>-1.38629  </td><td>6         </td><td> 0        </td><td>-0.16252  </td></tr>\n",
       "\t<tr><td>-0.5108256</td><td>2.6912    </td><td>74        </td><td>-1.386294 </td><td>0         </td><td>-1.38629  </td><td>7         </td><td>20        </td><td>-0.16252  </td></tr>\n",
       "\t<tr><td>-1.2039728</td><td>3.2828    </td><td>58        </td><td>-1.386294 </td><td>0         </td><td>-1.38629  </td><td>6         </td><td> 0        </td><td>-0.16252  </td></tr>\n",
       "\t<tr><td> 0.7514161</td><td>3.4324    </td><td>62        </td><td>-1.386294 </td><td>0         </td><td>-1.38629  </td><td>6         </td><td> 0        </td><td> 0.37156  </td></tr>\n",
       "\t<tr><td>-1.0498221</td><td>3.2288    </td><td>50        </td><td>-1.386294 </td><td>0         </td><td>-1.38629  </td><td>6         </td><td> 0        </td><td> 0.76547  </td></tr>\n",
       "</tbody>\n",
       "</table>\n"
      ],
      "text/latex": [
       "\\begin{tabular}{r|lllllllll}\n",
       " lcavol & lweight & age & lbph & svi & lcp & gleason & pgg45 & lpsa\\\\\n",
       "\\hline\n",
       "\t -0.5798185 & 2.7695     & 50         & -1.386294  & 0          & -1.38629   & 6          &  0         & -0.43078  \\\\\n",
       "\t -0.9942523 & 3.3196     & 58         & -1.386294  & 0          & -1.38629   & 6          &  0         & -0.16252  \\\\\n",
       "\t -0.5108256 & 2.6912     & 74         & -1.386294  & 0          & -1.38629   & 7          & 20         & -0.16252  \\\\\n",
       "\t -1.2039728 & 3.2828     & 58         & -1.386294  & 0          & -1.38629   & 6          &  0         & -0.16252  \\\\\n",
       "\t  0.7514161 & 3.4324     & 62         & -1.386294  & 0          & -1.38629   & 6          &  0         &  0.37156  \\\\\n",
       "\t -1.0498221 & 3.2288     & 50         & -1.386294  & 0          & -1.38629   & 6          &  0         &  0.76547  \\\\\n",
       "\\end{tabular}\n"
      ],
      "text/markdown": [
       "\n",
       "| lcavol | lweight | age | lbph | svi | lcp | gleason | pgg45 | lpsa |\n",
       "|---|---|---|---|---|---|---|---|---|\n",
       "| -0.5798185 | 2.7695     | 50         | -1.386294  | 0          | -1.38629   | 6          |  0         | -0.43078   |\n",
       "| -0.9942523 | 3.3196     | 58         | -1.386294  | 0          | -1.38629   | 6          |  0         | -0.16252   |\n",
       "| -0.5108256 | 2.6912     | 74         | -1.386294  | 0          | -1.38629   | 7          | 20         | -0.16252   |\n",
       "| -1.2039728 | 3.2828     | 58         | -1.386294  | 0          | -1.38629   | 6          |  0         | -0.16252   |\n",
       "|  0.7514161 | 3.4324     | 62         | -1.386294  | 0          | -1.38629   | 6          |  0         |  0.37156   |\n",
       "| -1.0498221 | 3.2288     | 50         | -1.386294  | 0          | -1.38629   | 6          |  0         |  0.76547   |\n",
       "\n"
      ],
      "text/plain": [
       "  lcavol     lweight age lbph      svi lcp      gleason pgg45 lpsa    \n",
       "1 -0.5798185 2.7695  50  -1.386294 0   -1.38629 6        0    -0.43078\n",
       "2 -0.9942523 3.3196  58  -1.386294 0   -1.38629 6        0    -0.16252\n",
       "3 -0.5108256 2.6912  74  -1.386294 0   -1.38629 7       20    -0.16252\n",
       "4 -1.2039728 3.2828  58  -1.386294 0   -1.38629 6        0    -0.16252\n",
       "5  0.7514161 3.4324  62  -1.386294 0   -1.38629 6        0     0.37156\n",
       "6 -1.0498221 3.2288  50  -1.386294 0   -1.38629 6        0     0.76547"
      ]
     },
     "metadata": {},
     "output_type": "display_data"
    },
    {
     "data": {
      "text/plain": [
       "     lcavol           lweight           age             lbph        \n",
       " Min.   :-1.3471   Min.   :2.375   Min.   :41.00   Min.   :-1.3863  \n",
       " 1st Qu.: 0.5128   1st Qu.:3.376   1st Qu.:60.00   1st Qu.:-1.3863  \n",
       " Median : 1.4469   Median :3.623   Median :65.00   Median : 0.3001  \n",
       " Mean   : 1.3500   Mean   :3.653   Mean   :63.87   Mean   : 0.1004  \n",
       " 3rd Qu.: 2.1270   3rd Qu.:3.878   3rd Qu.:68.00   3rd Qu.: 1.5581  \n",
       " Max.   : 3.8210   Max.   :6.108   Max.   :79.00   Max.   : 2.3263  \n",
       "      svi              lcp             gleason          pgg45       \n",
       " Min.   :0.0000   Min.   :-1.3863   Min.   :6.000   Min.   :  0.00  \n",
       " 1st Qu.:0.0000   1st Qu.:-1.3863   1st Qu.:6.000   1st Qu.:  0.00  \n",
       " Median :0.0000   Median :-0.7985   Median :7.000   Median : 15.00  \n",
       " Mean   :0.2165   Mean   :-0.1794   Mean   :6.753   Mean   : 24.38  \n",
       " 3rd Qu.:0.0000   3rd Qu.: 1.1786   3rd Qu.:7.000   3rd Qu.: 40.00  \n",
       " Max.   :1.0000   Max.   : 2.9042   Max.   :9.000   Max.   :100.00  \n",
       "      lpsa        \n",
       " Min.   :-0.4308  \n",
       " 1st Qu.: 1.7317  \n",
       " Median : 2.5915  \n",
       " Mean   : 2.4784  \n",
       " 3rd Qu.: 3.0564  \n",
       " Max.   : 5.5829  "
      ]
     },
     "metadata": {},
     "output_type": "display_data"
    }
   ],
   "source": [
    "library(tidyverse)\n",
    "library(ggplot2)\n",
    "library(faraway)\n",
    "data(prostate, package = \"faraway\")\n",
    "head(prostate)\n",
    "summary(prostate)"
   ]
  },
  {
   "cell_type": "code",
   "execution_count": null,
   "metadata": {
    "ExecuteTime": {
     "end_time": "2020-02-19T21:26:39.795086Z",
     "start_time": "2020-02-19T21:26:40.967Z"
    },
    "deletable": false,
    "editable": false,
    "nbgrader": {
     "cell_type": "code",
     "checksum": "2d90954aa43895de7b9fb347c8ad3e6d",
     "grade": true,
     "grade_id": "cell-0961f2bc53b90b39",
     "locked": true,
     "points": 2,
     "schema_version": 3,
     "solution": false,
     "task": false
    }
   },
   "outputs": [],
   "source": []
  },
  {
   "cell_type": "markdown",
   "metadata": {
    "deletable": false,
    "editable": false,
    "nbgrader": {
     "cell_type": "markdown",
     "checksum": "c8bba958bb3eacd1a019ed6871bacae9",
     "grade": false,
     "grade_id": "cell-200bc477cbd4567b",
     "locked": true,
     "schema_version": 3,
     "solution": false,
     "task": false
    }
   },
   "source": [
    "#### (b) Conduct MLR with lpsa as the response and all of the other variables as predictors. Store this linear model in a variable called $\\tt{lmod}$. Compute the 90% and 95% confidence intervals for the parameter associated with the age variable. Using these intervals, what could we have deduced about the p-value for age in the regression summary?"
   ]
  },
  {
   "cell_type": "code",
   "execution_count": 7,
   "metadata": {
    "ExecuteTime": {
     "end_time": "2020-02-19T21:26:39.833759Z",
     "start_time": "2020-02-19T21:26:40.980Z"
    },
    "deletable": false,
    "nbgrader": {
     "cell_type": "code",
     "checksum": "76ee01064db6e9c39762fa579babf8ce",
     "grade": false,
     "grade_id": "cell-bd05e40c8763b2d7",
     "locked": false,
     "schema_version": 3,
     "solution": true,
     "task": false
    }
   },
   "outputs": [
    {
     "data": {
      "text/html": [
       "<table>\n",
       "<thead><tr><th></th><th scope=col>5 %</th><th scope=col>95 %</th></tr></thead>\n",
       "<tbody>\n",
       "\t<tr><th scope=row>(Intercept)</th><td>-1.485718237</td><td> 2.824391633</td></tr>\n",
       "\t<tr><th scope=row>lcavol</th><td> 0.440867156</td><td> 0.733176497</td></tr>\n",
       "\t<tr><th scope=row>lweight</th><td> 0.171846568</td><td> 0.737088281</td></tr>\n",
       "\t<tr><th scope=row>age</th><td>-0.038210200</td><td>-0.001064151</td></tr>\n",
       "\t<tr><th scope=row>lbph</th><td> 0.009890745</td><td> 0.204217317</td></tr>\n",
       "\t<tr><th scope=row>svi</th><td> 0.360029029</td><td> 1.172285623</td></tr>\n",
       "\t<tr><th scope=row>lcp</th><td>-0.256770899</td><td> 0.045822373</td></tr>\n",
       "\t<tr><th scope=row>gleason</th><td>-0.216620186</td><td> 0.306903382</td></tr>\n",
       "\t<tr><th scope=row>pgg45</th><td>-0.002824333</td><td> 0.011874796</td></tr>\n",
       "</tbody>\n",
       "</table>\n"
      ],
      "text/latex": [
       "\\begin{tabular}{r|ll}\n",
       "  & 5 \\% & 95 \\%\\\\\n",
       "\\hline\n",
       "\t(Intercept) & -1.485718237 &  2.824391633\\\\\n",
       "\tlcavol &  0.440867156 &  0.733176497\\\\\n",
       "\tlweight &  0.171846568 &  0.737088281\\\\\n",
       "\tage & -0.038210200 & -0.001064151\\\\\n",
       "\tlbph &  0.009890745 &  0.204217317\\\\\n",
       "\tsvi &  0.360029029 &  1.172285623\\\\\n",
       "\tlcp & -0.256770899 &  0.045822373\\\\\n",
       "\tgleason & -0.216620186 &  0.306903382\\\\\n",
       "\tpgg45 & -0.002824333 &  0.011874796\\\\\n",
       "\\end{tabular}\n"
      ],
      "text/markdown": [
       "\n",
       "| <!--/--> | 5 % | 95 % |\n",
       "|---|---|---|\n",
       "| (Intercept) | -1.485718237 |  2.824391633 |\n",
       "| lcavol |  0.440867156 |  0.733176497 |\n",
       "| lweight |  0.171846568 |  0.737088281 |\n",
       "| age | -0.038210200 | -0.001064151 |\n",
       "| lbph |  0.009890745 |  0.204217317 |\n",
       "| svi |  0.360029029 |  1.172285623 |\n",
       "| lcp | -0.256770899 |  0.045822373 |\n",
       "| gleason | -0.216620186 |  0.306903382 |\n",
       "| pgg45 | -0.002824333 |  0.011874796 |\n",
       "\n"
      ],
      "text/plain": [
       "            5 %          95 %        \n",
       "(Intercept) -1.485718237  2.824391633\n",
       "lcavol       0.440867156  0.733176497\n",
       "lweight      0.171846568  0.737088281\n",
       "age         -0.038210200 -0.001064151\n",
       "lbph         0.009890745  0.204217317\n",
       "svi          0.360029029  1.172285623\n",
       "lcp         -0.256770899  0.045822373\n",
       "gleason     -0.216620186  0.306903382\n",
       "pgg45       -0.002824333  0.011874796"
      ]
     },
     "metadata": {},
     "output_type": "display_data"
    },
    {
     "data": {
      "text/html": [
       "<table>\n",
       "<thead><tr><th></th><th scope=col>2.5 %</th><th scope=col>97.5 %</th></tr></thead>\n",
       "<tbody>\n",
       "\t<tr><th scope=row>(Intercept)</th><td>-1.906960983</td><td>3.245634379 </td></tr>\n",
       "\t<tr><th scope=row>lcavol</th><td> 0.412298699</td><td>0.761744954 </td></tr>\n",
       "\t<tr><th scope=row>lweight</th><td> 0.116603435</td><td>0.792331414 </td></tr>\n",
       "\t<tr><th scope=row>age</th><td>-0.041840618</td><td>0.002566267 </td></tr>\n",
       "\t<tr><th scope=row>lbph</th><td>-0.009101499</td><td>0.223209561 </td></tr>\n",
       "\t<tr><th scope=row>svi</th><td> 0.280644232</td><td>1.251670420 </td></tr>\n",
       "\t<tr><th scope=row>lcp</th><td>-0.286344443</td><td>0.075395916 </td></tr>\n",
       "\t<tr><th scope=row>gleason</th><td>-0.267786053</td><td>0.358069248 </td></tr>\n",
       "\t<tr><th scope=row>pgg45</th><td>-0.004260932</td><td>0.013311395 </td></tr>\n",
       "</tbody>\n",
       "</table>\n"
      ],
      "text/latex": [
       "\\begin{tabular}{r|ll}\n",
       "  & 2.5 \\% & 97.5 \\%\\\\\n",
       "\\hline\n",
       "\t(Intercept) & -1.906960983 & 3.245634379 \\\\\n",
       "\tlcavol &  0.412298699 & 0.761744954 \\\\\n",
       "\tlweight &  0.116603435 & 0.792331414 \\\\\n",
       "\tage & -0.041840618 & 0.002566267 \\\\\n",
       "\tlbph & -0.009101499 & 0.223209561 \\\\\n",
       "\tsvi &  0.280644232 & 1.251670420 \\\\\n",
       "\tlcp & -0.286344443 & 0.075395916 \\\\\n",
       "\tgleason & -0.267786053 & 0.358069248 \\\\\n",
       "\tpgg45 & -0.004260932 & 0.013311395 \\\\\n",
       "\\end{tabular}\n"
      ],
      "text/markdown": [
       "\n",
       "| <!--/--> | 2.5 % | 97.5 % |\n",
       "|---|---|---|\n",
       "| (Intercept) | -1.906960983 | 3.245634379  |\n",
       "| lcavol |  0.412298699 | 0.761744954  |\n",
       "| lweight |  0.116603435 | 0.792331414  |\n",
       "| age | -0.041840618 | 0.002566267  |\n",
       "| lbph | -0.009101499 | 0.223209561  |\n",
       "| svi |  0.280644232 | 1.251670420  |\n",
       "| lcp | -0.286344443 | 0.075395916  |\n",
       "| gleason | -0.267786053 | 0.358069248  |\n",
       "| pgg45 | -0.004260932 | 0.013311395  |\n",
       "\n"
      ],
      "text/plain": [
       "            2.5 %        97.5 %     \n",
       "(Intercept) -1.906960983 3.245634379\n",
       "lcavol       0.412298699 0.761744954\n",
       "lweight      0.116603435 0.792331414\n",
       "age         -0.041840618 0.002566267\n",
       "lbph        -0.009101499 0.223209561\n",
       "svi          0.280644232 1.251670420\n",
       "lcp         -0.286344443 0.075395916\n",
       "gleason     -0.267786053 0.358069248\n",
       "pgg45       -0.004260932 0.013311395"
      ]
     },
     "metadata": {},
     "output_type": "display_data"
    }
   ],
   "source": [
    "lmod = lm(data = prostate, lpsa ~ lcavol + lweight + age + lbph + svi + lcp + gleason + pgg45)\n",
    "confint(lmod, level = 0.9)\n",
    "confint(lmod, level = 0.95)"
   ]
  },
  {
   "cell_type": "code",
   "execution_count": null,
   "metadata": {
    "ExecuteTime": {
     "end_time": "2020-02-19T21:26:39.860519Z",
     "start_time": "2020-02-19T21:26:40.990Z"
    },
    "deletable": false,
    "editable": false,
    "nbgrader": {
     "cell_type": "code",
     "checksum": "c49ed8dd48b7288c3391647fb6305a88",
     "grade": true,
     "grade_id": "cell-b919e6d963a51dbe",
     "locked": true,
     "points": 3,
     "schema_version": 3,
     "solution": false,
     "task": false
    }
   },
   "outputs": [],
   "source": []
  },
  {
   "cell_type": "markdown",
   "metadata": {
    "deletable": false,
    "nbgrader": {
     "cell_type": "markdown",
     "checksum": "3ba01da91b3e1905bfa5af9accf8db0c",
     "grade": true,
     "grade_id": "cell-608143943c8d3441",
     "locked": false,
     "points": 3,
     "schema_version": 3,
     "solution": true,
     "task": false
    }
   },
   "source": [
    "The 90% CI does not cover 0, and the 95% CI does. This means that our p-value is in between 0.05 and 0.1."
   ]
  },
  {
   "cell_type": "markdown",
   "metadata": {
    "deletable": false,
    "editable": false,
    "nbgrader": {
     "cell_type": "markdown",
     "checksum": "a4753b15ec482245e5bd758e3377cf21",
     "grade": false,
     "grade_id": "cell-2f7249c2e20b9c82",
     "locked": true,
     "schema_version": 3,
     "solution": false,
     "task": false
    }
   },
   "source": [
    "#### (c) In class, we discussed a reason why conducting several individual hypothesis tests (e.g., t-tests for regression parameters) is problematic. It turns out that computing individual confidence intervals has a similar issue. Instead, we might compute a \"joint confidence region\" for several parameters.  Compute and display the 95% joint confidence region for the parameters associated with age and lbph. Plot the origin on this display. The location of the origin on the display tells us the outcome of certain hypothesis test. State the test and its outcome. \n",
    "\n",
    "The ellipse package and corresponding function should help here. Use the code below (and help files) as a guide."
   ]
  },
  {
   "cell_type": "code",
   "execution_count": null,
   "metadata": {
    "ExecuteTime": {
     "end_time": "2020-02-19T21:26:39.991835Z",
     "start_time": "2020-02-19T21:26:41.011Z"
    },
    "deletable": false,
    "nbgrader": {
     "cell_type": "code",
     "checksum": "37781af23fcdd2721ffaef76c91de9a8",
     "grade": true,
     "grade_id": "cell-a3d502f6e2b1787d",
     "locked": false,
     "points": 0,
     "schema_version": 3,
     "solution": true,
     "task": false
    }
   },
   "outputs": [],
   "source": [
    "# YOUR CODE HERE"
   ]
  },
  {
   "cell_type": "markdown",
   "metadata": {
    "deletable": false,
    "nbgrader": {
     "cell_type": "markdown",
     "checksum": "c0cf9d532dd4ec1e2fd5be64f3b79401",
     "grade": true,
     "grade_id": "cell-7c1cd51c5a977630",
     "locked": false,
     "points": 3,
     "schema_version": 3,
     "solution": true,
     "task": false
    }
   },
   "source": [
    "YOUR ANSWER HERE"
   ]
  },
  {
   "cell_type": "markdown",
   "metadata": {
    "deletable": false,
    "editable": false,
    "nbgrader": {
     "cell_type": "markdown",
     "checksum": "5e6eb8a62a79b809ceb121814d248ce7",
     "grade": false,
     "grade_id": "cell-87e615379ca393cc",
     "locked": true,
     "schema_version": 3,
     "solution": false,
     "task": false
    }
   },
   "source": [
    "#### (d) Remove all predictors that are not significant at the $\\alpha = 0.05$ level. Test this model against the original model. Which model is preferred? Store this model in a variable called $\\tt{lmod2}$."
   ]
  },
  {
   "cell_type": "code",
   "execution_count": 10,
   "metadata": {
    "ExecuteTime": {
     "end_time": "2020-02-19T21:26:40.018548Z",
     "start_time": "2020-02-19T21:26:41.026Z"
    },
    "deletable": false,
    "nbgrader": {
     "cell_type": "code",
     "checksum": "c671e7e43f514370fbf06871a7ecf34b",
     "grade": false,
     "grade_id": "cell-1be395f4776598ee",
     "locked": false,
     "schema_version": 3,
     "solution": true,
     "task": false
    }
   },
   "outputs": [
    {
     "data": {
      "text/html": [
       "<table>\n",
       "<thead><tr><th scope=col>Res.Df</th><th scope=col>RSS</th><th scope=col>Df</th><th scope=col>Sum of Sq</th><th scope=col>F</th><th scope=col>Pr(&gt;F)</th></tr></thead>\n",
       "<tbody>\n",
       "\t<tr><td>93       </td><td>47.78486 </td><td>NA       </td><td>      NA </td><td>      NA </td><td>       NA</td></tr>\n",
       "\t<tr><td>88       </td><td>44.16302 </td><td> 5       </td><td>3.621837 </td><td>1.443387 </td><td>0.2167334</td></tr>\n",
       "</tbody>\n",
       "</table>\n"
      ],
      "text/latex": [
       "\\begin{tabular}{r|llllll}\n",
       " Res.Df & RSS & Df & Sum of Sq & F & Pr(>F)\\\\\n",
       "\\hline\n",
       "\t 93        & 47.78486  & NA        &       NA  &       NA  &        NA\\\\\n",
       "\t 88        & 44.16302  &  5        & 3.621837  & 1.443387  & 0.2167334\\\\\n",
       "\\end{tabular}\n"
      ],
      "text/markdown": [
       "\n",
       "| Res.Df | RSS | Df | Sum of Sq | F | Pr(>F) |\n",
       "|---|---|---|---|---|---|\n",
       "| 93        | 47.78486  | NA        |       NA  |       NA  |        NA |\n",
       "| 88        | 44.16302  |  5        | 3.621837  | 1.443387  | 0.2167334 |\n",
       "\n"
      ],
      "text/plain": [
       "  Res.Df RSS      Df Sum of Sq F        Pr(>F)   \n",
       "1 93     47.78486 NA       NA        NA        NA\n",
       "2 88     44.16302  5 3.621837  1.443387 0.2167334"
      ]
     },
     "metadata": {},
     "output_type": "display_data"
    }
   ],
   "source": [
    "lmod2 = lm(data = prostate, lpsa ~ lcavol + lweight + svi)\n",
    "anova(lmod2, lmod)"
   ]
  },
  {
   "cell_type": "markdown",
   "metadata": {
    "deletable": false,
    "nbgrader": {
     "cell_type": "markdown",
     "checksum": "f6b8c7a6ebb9593c101b2233166d94ac",
     "grade": true,
     "grade_id": "cell-7441005abc698648",
     "locked": false,
     "points": 3,
     "schema_version": 3,
     "solution": true,
     "task": false
    }
   },
   "source": [
    "The F statistic for the reduced model is 0.217 which is greater than 0.05 so we should reject $H_0$: Keep the full model"
   ]
  },
  {
   "cell_type": "code",
   "execution_count": null,
   "metadata": {
    "ExecuteTime": {
     "end_time": "2020-02-19T21:26:40.032022Z",
     "start_time": "2020-02-19T21:26:41.041Z"
    },
    "deletable": false,
    "editable": false,
    "nbgrader": {
     "cell_type": "code",
     "checksum": "be80c107bf6f61c1d26699308ee1f698",
     "grade": true,
     "grade_id": "cell-ee67603c7e261262",
     "locked": true,
     "points": 3,
     "schema_version": 3,
     "solution": false,
     "task": false
    }
   },
   "outputs": [],
   "source": []
  },
  {
   "cell_type": "markdown",
   "metadata": {
    "deletable": false,
    "editable": false,
    "nbgrader": {
     "cell_type": "markdown",
     "checksum": "ff4212d8a68ef7ad5e107265478ebddd",
     "grade": false,
     "grade_id": "cell-4ddbdc2bdf7346d5",
     "locked": true,
     "schema_version": 3,
     "solution": false,
     "task": false
    }
   },
   "source": [
    "### Problem B.2\n",
    "\n",
    "This [link](https://www.colorado.edu/amath/sites/default/files/attached-files/advertising.txt) contains advertising data. This dataset contains, in thousands of dollars, TV, Radio, and Newspaper budgets for 200 different markets along with the Sales, in thousands of units, for each market.\n",
    "\n",
    "#### (a) Load the dataset using the link above and split the data into a training set and a test set, as done in the previous homework. (Remove the variable X.)"
   ]
  },
  {
   "cell_type": "code",
   "execution_count": 11,
   "metadata": {
    "ExecuteTime": {
     "end_time": "2020-02-19T21:26:40.263173Z",
     "start_time": "2020-02-19T21:26:41.054Z"
    },
    "deletable": false,
    "editable": false,
    "nbgrader": {
     "cell_type": "code",
     "checksum": "c191a05d6b98079223331cdb598ce372",
     "grade": false,
     "grade_id": "cell-c2d2bdfaa89efa45",
     "locked": true,
     "schema_version": 3,
     "solution": false,
     "task": false
    }
   },
   "outputs": [
    {
     "name": "stderr",
     "output_type": "stream",
     "text": [
      "Warning message:\n",
      "\"package 'modelr' was built under R version 3.6.2\"Warning message:\n",
      "\"package 'broom' was built under R version 3.6.2\"\n",
      "Attaching package: 'broom'\n",
      "\n",
      "The following object is masked from 'package:modelr':\n",
      "\n",
      "    bootstrap\n",
      "\n"
     ]
    },
    {
     "data": {
      "text/html": [
       "<table>\n",
       "<thead><tr><th></th><th scope=col>TV</th><th scope=col>radio</th><th scope=col>newspaper</th><th scope=col>sales</th></tr></thead>\n",
       "<tbody>\n",
       "\t<tr><th scope=row>34</th><td>265.6</td><td>20.0 </td><td> 0.3 </td><td>17.4 </td></tr>\n",
       "\t<tr><th scope=row>184</th><td>287.6</td><td>43.0 </td><td>71.8 </td><td>26.2 </td></tr>\n",
       "\t<tr><th scope=row>153</th><td>197.6</td><td>23.3 </td><td>14.2 </td><td>16.6 </td></tr>\n",
       "\t<tr><th scope=row>144</th><td>104.6</td><td> 5.7 </td><td>34.4 </td><td>10.4 </td></tr>\n",
       "\t<tr><th scope=row>113</th><td>175.7</td><td>15.4 </td><td> 2.4 </td><td>14.1 </td></tr>\n",
       "\t<tr><th scope=row>37</th><td>266.9</td><td>43.8 </td><td> 5.0 </td><td>25.4 </td></tr>\n",
       "</tbody>\n",
       "</table>\n"
      ],
      "text/latex": [
       "\\begin{tabular}{r|llll}\n",
       "  & TV & radio & newspaper & sales\\\\\n",
       "\\hline\n",
       "\t34 & 265.6 & 20.0  &  0.3  & 17.4 \\\\\n",
       "\t184 & 287.6 & 43.0  & 71.8  & 26.2 \\\\\n",
       "\t153 & 197.6 & 23.3  & 14.2  & 16.6 \\\\\n",
       "\t144 & 104.6 &  5.7  & 34.4  & 10.4 \\\\\n",
       "\t113 & 175.7 & 15.4  &  2.4  & 14.1 \\\\\n",
       "\t37 & 266.9 & 43.8  &  5.0  & 25.4 \\\\\n",
       "\\end{tabular}\n"
      ],
      "text/markdown": [
       "\n",
       "| <!--/--> | TV | radio | newspaper | sales |\n",
       "|---|---|---|---|---|\n",
       "| 34 | 265.6 | 20.0  |  0.3  | 17.4  |\n",
       "| 184 | 287.6 | 43.0  | 71.8  | 26.2  |\n",
       "| 153 | 197.6 | 23.3  | 14.2  | 16.6  |\n",
       "| 144 | 104.6 |  5.7  | 34.4  | 10.4  |\n",
       "| 113 | 175.7 | 15.4  |  2.4  | 14.1  |\n",
       "| 37 | 266.9 | 43.8  |  5.0  | 25.4  |\n",
       "\n"
      ],
      "text/plain": [
       "    TV    radio newspaper sales\n",
       "34  265.6 20.0   0.3      17.4 \n",
       "184 287.6 43.0  71.8      26.2 \n",
       "153 197.6 23.3  14.2      16.6 \n",
       "144 104.6  5.7  34.4      10.4 \n",
       "113 175.7 15.4   2.4      14.1 \n",
       "37  266.9 43.8   5.0      25.4 "
      ]
     },
     "metadata": {},
     "output_type": "display_data"
    }
   ],
   "source": [
    "library(tidyverse)  # data manipulation and visualization\n",
    "library(modelr)     # provides easy pipeline modeling functions\n",
    "library(broom)      # helps to tidy up model outputs\n",
    "\n",
    "# Load data (remove row numbers included as X1 variable)\n",
    "adv = read.csv(\"https://www.colorado.edu/amath/sites/default/files/attached-files/advertising.txt\", sep = \"\\t\")\n",
    "adv = adv[,-1]\n",
    "set.seed(11)\n",
    "n = floor(0.8 * nrow(adv))\n",
    "index = sample(seq_len(nrow(adv)), size = n)\n",
    "\n",
    "train = adv[index, ]\n",
    "test = adv[-index, ]\n",
    "head(train)"
   ]
  },
  {
   "cell_type": "markdown",
   "metadata": {
    "deletable": false,
    "editable": false,
    "nbgrader": {
     "cell_type": "markdown",
     "checksum": "01cb5e9c5907cde3f4dbe4324772d55d",
     "grade": false,
     "grade_id": "cell-3295deb33e8abc32",
     "locked": true,
     "schema_version": 3,
     "solution": false,
     "task": false
    }
   },
   "source": [
    "#### (b) Fit the full MLR model. Which variables are statistically significant at the 5% level? Discuss the difference between statistical and practical significance in this context. Also, the estimate for newspaper is negative. Do you actually think that sales *suffer* as a result of newspaper advertising? Store the MLR model object in a variable $\\tt{lmod}$."
   ]
  },
  {
   "cell_type": "code",
   "execution_count": 12,
   "metadata": {
    "ExecuteTime": {
     "end_time": "2020-02-19T21:26:40.278942Z",
     "start_time": "2020-02-19T21:26:41.066Z"
    },
    "deletable": false,
    "nbgrader": {
     "cell_type": "code",
     "checksum": "b37f5f1f4278bf990525783929881f9e",
     "grade": false,
     "grade_id": "cell-3d1e63f84b6ae165",
     "locked": false,
     "schema_version": 3,
     "solution": true,
     "task": false
    }
   },
   "outputs": [
    {
     "data": {
      "text/plain": [
       "\n",
       "Call:\n",
       "lm(formula = sales ~ TV + radio + newspaper, data = train)\n",
       "\n",
       "Residuals:\n",
       "    Min      1Q  Median      3Q     Max \n",
       "-8.3878 -0.5611  0.1839  1.1596  3.1108 \n",
       "\n",
       "Coefficients:\n",
       "             Estimate Std. Error t value Pr(>|t|)    \n",
       "(Intercept)  2.638924   0.354627   7.441 6.28e-12 ***\n",
       "TV           0.048557   0.001578  30.780  < 2e-16 ***\n",
       "radio        0.185498   0.009659  19.205  < 2e-16 ***\n",
       "newspaper   -0.003537   0.006332  -0.559    0.577    \n",
       "---\n",
       "Signif. codes:  0 '***' 0.001 '**' 0.01 '*' 0.05 '.' 0.1 ' ' 1\n",
       "\n",
       "Residual standard error: 1.697 on 156 degrees of freedom\n",
       "Multiple R-squared:    0.9,\tAdjusted R-squared:  0.8981 \n",
       "F-statistic: 467.9 on 3 and 156 DF,  p-value: < 2.2e-16\n"
      ]
     },
     "metadata": {},
     "output_type": "display_data"
    }
   ],
   "source": [
    "lmod = lm(data = train, sales ~ TV + radio + newspaper)\n",
    "summary(lmod)"
   ]
  },
  {
   "cell_type": "markdown",
   "metadata": {
    "deletable": false,
    "nbgrader": {
     "cell_type": "markdown",
     "checksum": "3d73e4fec59c3bd30f5d118702046fc8",
     "grade": true,
     "grade_id": "cell-35b6c25d2fd49396",
     "locked": false,
     "points": 3,
     "schema_version": 3,
     "solution": true,
     "task": false
    }
   },
   "source": [
    "The TV and radio variables are significant at 5%. The estimate of the newspaper variable is negative, but it is close to zero which does sound reasonable. We should likely avoid using the newspaper variable in a reduced model."
   ]
  },
  {
   "cell_type": "code",
   "execution_count": null,
   "metadata": {
    "ExecuteTime": {
     "end_time": "2020-02-19T21:26:40.292752Z",
     "start_time": "2020-02-19T21:26:41.077Z"
    },
    "deletable": false,
    "editable": false,
    "nbgrader": {
     "cell_type": "code",
     "checksum": "4df4f69df8da2fa8fa5789428b6e4334",
     "grade": true,
     "grade_id": "cell-3d810f4f9cb56649",
     "locked": true,
     "points": 3,
     "schema_version": 3,
     "solution": false,
     "task": false
    }
   },
   "outputs": [],
   "source": []
  },
  {
   "cell_type": "markdown",
   "metadata": {
    "deletable": false,
    "editable": false,
    "nbgrader": {
     "cell_type": "markdown",
     "checksum": "1f70cf71695657fdd5b0f3e56e49bf0a",
     "grade": false,
     "grade_id": "cell-15844c8ddde852d1",
     "locked": true,
     "schema_version": 3,
     "solution": false,
     "task": false
    }
   },
   "source": [
    "#### (c) Imagine that, in your test set, you don't have any response measurements. Compute predictions--including 95% *prediction* intervals--of sales for all measurements in your test set. Print the prediction MSE and the first five prediction intervals. Store the prediction MSE in a variable named $\\tt{mseTest}$."
   ]
  },
  {
   "cell_type": "code",
   "execution_count": 28,
   "metadata": {
    "ExecuteTime": {
     "end_time": "2020-02-19T21:26:40.312930Z",
     "start_time": "2020-02-19T21:26:41.090Z"
    },
    "deletable": false,
    "nbgrader": {
     "cell_type": "code",
     "checksum": "a7f64dd4ddf8b59303c0b2217e732270",
     "grade": false,
     "grade_id": "cell-79c3a5fa2f622865",
     "locked": false,
     "schema_version": 3,
     "solution": true,
     "task": false
    }
   },
   "outputs": [
    {
     "data": {
      "text/html": [
       "<table>\n",
       "<thead><tr><th></th><th scope=col>fit</th><th scope=col>lwr</th><th scope=col>upr</th></tr></thead>\n",
       "<tbody>\n",
       "\t<tr><th scope=row>20</th><td>14.157182</td><td>10.792239</td><td>17.522124</td></tr>\n",
       "\t<tr><th scope=row>23</th><td> 6.053829</td><td> 2.648922</td><td> 9.458737</td></tr>\n",
       "\t<tr><th scope=row>24</th><td>16.766690</td><td>13.392039</td><td>20.141340</td></tr>\n",
       "\t<tr><th scope=row>30</th><td> 8.890674</td><td> 5.511985</td><td>12.269363</td></tr>\n",
       "\t<tr><th scope=row>32</th><td>11.212109</td><td> 7.843163</td><td>14.581056</td></tr>\n",
       "</tbody>\n",
       "</table>\n"
      ],
      "text/latex": [
       "\\begin{tabular}{r|lll}\n",
       "  & fit & lwr & upr\\\\\n",
       "\\hline\n",
       "\t20 & 14.157182 & 10.792239 & 17.522124\\\\\n",
       "\t23 &  6.053829 &  2.648922 &  9.458737\\\\\n",
       "\t24 & 16.766690 & 13.392039 & 20.141340\\\\\n",
       "\t30 &  8.890674 &  5.511985 & 12.269363\\\\\n",
       "\t32 & 11.212109 &  7.843163 & 14.581056\\\\\n",
       "\\end{tabular}\n"
      ],
      "text/markdown": [
       "\n",
       "| <!--/--> | fit | lwr | upr |\n",
       "|---|---|---|---|\n",
       "| 20 | 14.157182 | 10.792239 | 17.522124 |\n",
       "| 23 |  6.053829 |  2.648922 |  9.458737 |\n",
       "| 24 | 16.766690 | 13.392039 | 20.141340 |\n",
       "| 30 |  8.890674 |  5.511985 | 12.269363 |\n",
       "| 32 | 11.212109 |  7.843163 | 14.581056 |\n",
       "\n"
      ],
      "text/plain": [
       "   fit       lwr       upr      \n",
       "20 14.157182 10.792239 17.522124\n",
       "23  6.053829  2.648922  9.458737\n",
       "24 16.766690 13.392039 20.141340\n",
       "30  8.890674  5.511985 12.269363\n",
       "32 11.212109  7.843163 14.581056"
      ]
     },
     "metadata": {},
     "output_type": "display_data"
    },
    {
     "data": {
      "text/html": [
       "10.6658791970391"
      ],
      "text/latex": [
       "10.6658791970391"
      ],
      "text/markdown": [
       "10.6658791970391"
      ],
      "text/plain": [
       "[1] 10.66588"
      ]
     },
     "metadata": {},
     "output_type": "display_data"
    }
   ],
   "source": [
    "fiveVal = test[(1:5),]\n",
    "predict.lm(lmod, fiveVal, interval = \"predict\")\n",
    "mseTest = mean((test$sales - predict.lm(lmod, test, interval = \"predict\"))^2)\n",
    "mseTest"
   ]
  },
  {
   "cell_type": "code",
   "execution_count": null,
   "metadata": {
    "ExecuteTime": {
     "end_time": "2020-02-19T21:26:40.330795Z",
     "start_time": "2020-02-19T21:26:41.101Z"
    },
    "deletable": false,
    "editable": false,
    "nbgrader": {
     "cell_type": "code",
     "checksum": "07a842221a3a92c152765e985b226330",
     "grade": true,
     "grade_id": "cell-a4f841dd5229f8f7",
     "locked": true,
     "points": 3,
     "schema_version": 3,
     "solution": false,
     "task": false
    }
   },
   "outputs": [],
   "source": []
  },
  {
   "cell_type": "markdown",
   "metadata": {
    "deletable": false,
    "editable": false,
    "nbgrader": {
     "cell_type": "markdown",
     "checksum": "bca9a23a0c451c51cc8c70050a38c0b1",
     "grade": false,
     "grade_id": "cell-c2df7cc6283cef33",
     "locked": true,
     "schema_version": 3,
     "solution": false,
     "task": false
    }
   },
   "source": [
    "#### (d) Add some polynomial terms to the model. Specifically, add $TV^2$ and $radio^2$ to the model. To do this, you'll need to use the I() function: I(predictor^2). Comment on the significance of these terms. Assume $\\alpha = 0.05$. Store this new model in a variable named $\\tt{lmodquad}$."
   ]
  },
  {
   "cell_type": "code",
   "execution_count": 30,
   "metadata": {
    "ExecuteTime": {
     "end_time": "2020-02-19T21:26:40.346272Z",
     "start_time": "2020-02-19T21:26:41.112Z"
    },
    "deletable": false,
    "nbgrader": {
     "cell_type": "code",
     "checksum": "2572fe7320c624073d62998af33113f7",
     "grade": false,
     "grade_id": "cell-363832be407f275e",
     "locked": false,
     "schema_version": 3,
     "solution": true,
     "task": false
    }
   },
   "outputs": [
    {
     "data": {
      "text/plain": [
       "\n",
       "Call:\n",
       "lm(formula = sales ~ TV + radio + newspaper + I(TV^2) + I(radio^2), \n",
       "    data = train)\n",
       "\n",
       "Residuals:\n",
       "    Min      1Q  Median      3Q     Max \n",
       "-7.0489 -0.7551 -0.1144  0.9879  3.7433 \n",
       "\n",
       "Coefficients:\n",
       "              Estimate Std. Error t value Pr(>|t|)    \n",
       "(Intercept)  1.101e+00  5.006e-01   2.199   0.0294 *  \n",
       "TV           7.955e-02  5.806e-03  13.701  < 2e-16 ***\n",
       "radio        1.754e-01  3.331e-02   5.265 4.64e-07 ***\n",
       "newspaper    2.027e-04  5.874e-03   0.035   0.9725    \n",
       "I(TV^2)     -1.098e-04  1.992e-05  -5.512 1.46e-07 ***\n",
       "I(radio^2)   3.482e-04  6.754e-04   0.516   0.6069    \n",
       "---\n",
       "Signif. codes:  0 '***' 0.001 '**' 0.01 '*' 0.05 '.' 0.1 ' ' 1\n",
       "\n",
       "Residual standard error: 1.56 on 154 degrees of freedom\n",
       "Multiple R-squared:  0.9165,\tAdjusted R-squared:  0.9138 \n",
       "F-statistic: 338.1 on 5 and 154 DF,  p-value: < 2.2e-16\n"
      ]
     },
     "metadata": {},
     "output_type": "display_data"
    }
   ],
   "source": [
    "lmodquad = lm(data = train, sales ~ TV + radio + newspaper + I(TV^2) + I(radio^2))\n",
    "summary(lmodquad)"
   ]
  },
  {
   "cell_type": "markdown",
   "metadata": {
    "deletable": false,
    "nbgrader": {
     "cell_type": "markdown",
     "checksum": "c402b1642d59cd13a4a7eae50869f0ac",
     "grade": true,
     "grade_id": "cell-6003a0814aaaa564",
     "locked": false,
     "points": 3,
     "schema_version": 3,
     "solution": true,
     "task": false
    }
   },
   "source": [
    "The TV^2 variable has a p-value below 0.05 and so is significant, while the radio^2 variable does not and should be left out of a reduced model."
   ]
  },
  {
   "cell_type": "code",
   "execution_count": null,
   "metadata": {
    "ExecuteTime": {
     "end_time": "2020-02-19T21:26:40.361403Z",
     "start_time": "2020-02-19T21:26:41.126Z"
    },
    "deletable": false,
    "editable": false,
    "nbgrader": {
     "cell_type": "code",
     "checksum": "3cac0bcf48d5f061b30eeda310add28d",
     "grade": true,
     "grade_id": "cell-32c86cf084d6a075",
     "locked": true,
     "points": 3,
     "schema_version": 3,
     "solution": false,
     "task": false
    }
   },
   "outputs": [],
   "source": []
  },
  {
   "cell_type": "markdown",
   "metadata": {
    "deletable": false,
    "editable": false,
    "nbgrader": {
     "cell_type": "markdown",
     "checksum": "2bb23d899d7021316c335c19e4ba3cf3",
     "grade": false,
     "grade_id": "cell-63948c80bf73baa1",
     "locked": true,
     "schema_version": 3,
     "solution": false,
     "task": false
    }
   },
   "source": [
    "#### (e) Is it surprising that $R^2$ increased from the model in (c) to the model in (d)? Explain why or why not."
   ]
  },
  {
   "cell_type": "markdown",
   "metadata": {
    "collapsed": true,
    "deletable": false,
    "nbgrader": {
     "cell_type": "markdown",
     "checksum": "8da9af413183fe1863c8e89929d39762",
     "grade": true,
     "grade_id": "cell-c2a2ca3b194aa2dd",
     "locked": false,
     "points": 3,
     "schema_version": 3,
     "solution": true,
     "task": false
    }
   },
   "source": [
    "No, it is not suprising that $R^2$ has increased. The MSE will always go down when a predictor variable is added, unless the estimate of that parameter is exactly 0."
   ]
  },
  {
   "cell_type": "markdown",
   "metadata": {
    "deletable": false,
    "editable": false,
    "nbgrader": {
     "cell_type": "markdown",
     "checksum": "8bde4443daebd46bec5bbde75c27e718",
     "grade": false,
     "grade_id": "cell-7455cf9bc5911629",
     "locked": true,
     "schema_version": 3,
     "solution": false,
     "task": false
    }
   },
   "source": [
    "#### (f) Conduct a test (not just individual t-tests) to decide whether you should keep the quadratic terms in your model. Explain your choice."
   ]
  },
  {
   "cell_type": "code",
   "execution_count": 31,
   "metadata": {
    "ExecuteTime": {
     "end_time": "2020-02-19T21:26:40.376223Z",
     "start_time": "2020-02-19T21:26:41.140Z"
    },
    "deletable": false,
    "nbgrader": {
     "cell_type": "code",
     "checksum": "02ab50e8a4173efb674ebc8b1d168b71",
     "grade": false,
     "grade_id": "cell-b262ae013ed11b8b",
     "locked": false,
     "schema_version": 3,
     "solution": true,
     "task": false
    }
   },
   "outputs": [
    {
     "data": {
      "text/html": [
       "<table>\n",
       "<thead><tr><th scope=col>Res.Df</th><th scope=col>RSS</th><th scope=col>Df</th><th scope=col>Sum of Sq</th><th scope=col>F</th><th scope=col>Pr(&gt;F)</th></tr></thead>\n",
       "<tbody>\n",
       "\t<tr><td>156        </td><td>449.0658   </td><td>NA         </td><td>      NA   </td><td>      NA   </td><td>         NA</td></tr>\n",
       "\t<tr><td>154        </td><td>374.8639   </td><td> 2         </td><td>74.20189   </td><td>15.24165   </td><td>9.12853e-07</td></tr>\n",
       "</tbody>\n",
       "</table>\n"
      ],
      "text/latex": [
       "\\begin{tabular}{r|llllll}\n",
       " Res.Df & RSS & Df & Sum of Sq & F & Pr(>F)\\\\\n",
       "\\hline\n",
       "\t 156         & 449.0658    & NA          &       NA    &       NA    &          NA\\\\\n",
       "\t 154         & 374.8639    &  2          & 74.20189    & 15.24165    & 9.12853e-07\\\\\n",
       "\\end{tabular}\n"
      ],
      "text/markdown": [
       "\n",
       "| Res.Df | RSS | Df | Sum of Sq | F | Pr(>F) |\n",
       "|---|---|---|---|---|---|\n",
       "| 156         | 449.0658    | NA          |       NA    |       NA    |          NA |\n",
       "| 154         | 374.8639    |  2          | 74.20189    | 15.24165    | 9.12853e-07 |\n",
       "\n"
      ],
      "text/plain": [
       "  Res.Df RSS      Df Sum of Sq F        Pr(>F)     \n",
       "1 156    449.0658 NA       NA        NA          NA\n",
       "2 154    374.8639  2 74.20189  15.24165 9.12853e-07"
      ]
     },
     "metadata": {},
     "output_type": "display_data"
    }
   ],
   "source": [
    "anova(lmod, lmodquad)"
   ]
  },
  {
   "cell_type": "markdown",
   "metadata": {
    "deletable": false,
    "nbgrader": {
     "cell_type": "markdown",
     "checksum": "1274394c37796ee149d8aa28bef66c4e",
     "grade": true,
     "grade_id": "cell-7c71f6f93f06f486",
     "locked": false,
     "points": 3,
     "schema_version": 3,
     "solution": true,
     "task": false
    }
   },
   "source": [
    "The p-value of our F-test is below 0.05 which means we should keep our full model, lmodquad, ie we should fail to reject $H_0$: The full model contains parameters that are significant above a 0.05 significance level (double check this)"
   ]
  },
  {
   "cell_type": "code",
   "execution_count": null,
   "metadata": {
    "ExecuteTime": {
     "end_time": "2020-02-19T21:26:40.389793Z",
     "start_time": "2020-02-19T21:26:41.151Z"
    },
    "deletable": false,
    "editable": false,
    "nbgrader": {
     "cell_type": "code",
     "checksum": "0c813a11ef9e26e14db02467b55ae36b",
     "grade": true,
     "grade_id": "cell-8421cfe4d2443ba7",
     "locked": true,
     "points": 2,
     "schema_version": 3,
     "solution": false,
     "task": false
    }
   },
   "outputs": [],
   "source": []
  },
  {
   "cell_type": "markdown",
   "metadata": {
    "deletable": false,
    "editable": false,
    "nbgrader": {
     "cell_type": "markdown",
     "checksum": "f24636edcf05fa9530ae68a4e67ffa2a",
     "grade": false,
     "grade_id": "cell-687495e92c4c15bb",
     "locked": true,
     "schema_version": 3,
     "solution": false,
     "task": false
    }
   },
   "source": [
    "#### (g) Similar to part (c), recalculate the prediction MSE for the model with the quadratic terms, $\\tt{lmodquad}$. How does the prediction MSE of this model compare to the one in part (c)? Store this new prediction MSE in a variable called $\\tt{mseTest2}$."
   ]
  },
  {
   "cell_type": "code",
   "execution_count": 32,
   "metadata": {
    "ExecuteTime": {
     "end_time": "2020-02-19T21:26:40.413236Z",
     "start_time": "2020-02-19T21:26:41.164Z"
    },
    "deletable": false,
    "nbgrader": {
     "cell_type": "code",
     "checksum": "72465e6501f0fc332e96157b28404e69",
     "grade": false,
     "grade_id": "cell-6f425ba0dd0bfa6a",
     "locked": false,
     "schema_version": 3,
     "solution": true,
     "task": false
    }
   },
   "outputs": [
    {
     "data": {
      "text/html": [
       "8.62021497865969"
      ],
      "text/latex": [
       "8.62021497865969"
      ],
      "text/markdown": [
       "8.62021497865969"
      ],
      "text/plain": [
       "[1] 8.620215"
      ]
     },
     "metadata": {},
     "output_type": "display_data"
    }
   ],
   "source": [
    "mseTest2 = mean((test$sales - predict.lm(lmodquad, test, interval = \"predict\"))^2)\n",
    "mseTest2"
   ]
  },
  {
   "cell_type": "markdown",
   "metadata": {
    "deletable": false,
    "nbgrader": {
     "cell_type": "markdown",
     "checksum": "fd9efe81ac59eb2d8a6cf5408d9a10cf",
     "grade": true,
     "grade_id": "cell-1a7363e2772aef01",
     "locked": false,
     "points": 3,
     "schema_version": 3,
     "solution": true,
     "task": false
    }
   },
   "source": [
    "The prediction MSE is lower, which makes sense because the $R^2$ value for this model is higher which means that it explains more of the variance in the response variable, and there is a smaller average noise term"
   ]
  },
  {
   "cell_type": "code",
   "execution_count": null,
   "metadata": {
    "ExecuteTime": {
     "end_time": "2020-02-19T21:26:40.431660Z",
     "start_time": "2020-02-19T21:26:41.175Z"
    },
    "deletable": false,
    "editable": false,
    "nbgrader": {
     "cell_type": "code",
     "checksum": "50bb98b6b7e0ad3e4a45c50486509115",
     "grade": true,
     "grade_id": "cell-9d5344e339e2b820",
     "locked": true,
     "points": 3,
     "schema_version": 3,
     "solution": false,
     "task": false
    }
   },
   "outputs": [],
   "source": []
  },
  {
   "cell_type": "markdown",
   "metadata": {
    "deletable": false,
    "editable": false,
    "nbgrader": {
     "cell_type": "markdown",
     "checksum": "ba477b751cb2ac3a4bc574be34735be0",
     "grade": false,
     "grade_id": "cell-92a6d7c61c60c5fb",
     "locked": true,
     "schema_version": 3,
     "solution": false,
     "task": false
    }
   },
   "source": [
    "#### (h) For the full MLE model (with no quadratic terms):\n",
    "\n",
    "1. Plot the residuals (y) against the fitted values (x). What do you notice? Is this what you would expect if the model is formulated correctly? \n",
    "\n",
    "2. Produce a normal QQ-plot of the residuals. If the points of the QQ-plot roughly follow the line $y = x$, then we don't have evidence against normality of the residuals. How does the QQ-plot look for these residuals?"
   ]
  },
  {
   "cell_type": "code",
   "execution_count": 39,
   "metadata": {},
   "outputs": [
    {
     "name": "stderr",
     "output_type": "stream",
     "text": [
      "Warning message:\n",
      "\"package 'gridExtra' was built under R version 3.6.2\"\n",
      "Attaching package: 'gridExtra'\n",
      "\n",
      "The following object is masked from 'package:dplyr':\n",
      "\n",
      "    combine\n",
      "\n"
     ]
    }
   ],
   "source": [
    "#install.packages(\"gridExtra\")\n",
    "library(gridExtra)"
   ]
  },
  {
   "cell_type": "code",
   "execution_count": 51,
   "metadata": {
    "deletable": false,
    "nbgrader": {
     "cell_type": "code",
     "checksum": "0f45bf269632ce313cfae10df3c415b0",
     "grade": true,
     "grade_id": "cell-28e85c6502823de5",
     "locked": false,
     "points": 4,
     "schema_version": 3,
     "solution": true,
     "task": false
    }
   },
   "outputs": [
    {
     "data": {
      "image/png": "[encoded data removed]",
      "text/plain": [
       "plot without title"
      ]
     },
     "metadata": {},
     "output_type": "display_data"
    }
   ],
   "source": [
    "residuals = resid(lmod)\n",
    "fitted = fitted(lmod)\n",
    "data1 = data.frame(residuals, fitted)\n",
    "p1 = ggplot(data = data1, aes(x = fitted, y = residuals)) + geom_point()\n",
    "p2 = ggplot(data = train, aes(sample = residuals/sd(residuals))) + stat_qq() + stat_qq_line(color = 'red', size = 1)\n",
    "grid.arrange(p1,p2, nrow = 1)"
   ]
  },
  {
   "cell_type": "markdown",
   "metadata": {
    "ExecuteTime": {
     "end_time": "2020-02-19T20:55:45.972815Z",
     "start_time": "2020-02-19T20:55:46.281Z"
    },
    "deletable": false,
    "nbgrader": {
     "cell_type": "markdown",
     "checksum": "c15455fa6d25e739d09c92b03267fcfe",
     "grade": true,
     "grade_id": "cell-7e4070119659419f",
     "locked": false,
     "points": 4,
     "schema_version": 3,
     "solution": true,
     "task": false
    }
   },
   "source": [
    "From the residuals vs. fitted plot it appears that there is not constant variance. It appears that there is a quadratic shape to the plot. The QQ plot shows clear variation away from the y = x line particually at the high and low ends."
   ]
  },
  {
   "cell_type": "code",
   "execution_count": null,
   "metadata": {},
   "outputs": [],
   "source": []
  }
 ],
 "metadata": {
  "kernelspec": {
   "display_name": "R",
   "language": "R",
   "name": "ir"
  },
  "language_info": {
   "codemirror_mode": "r",
   "file_extension": ".r",
   "mimetype": "text/x-r-source",
   "name": "R",
   "pygments_lexer": "r",
   "version": "3.6.1"
  }
 },
 "nbformat": 4,
 "nbformat_minor": 2
}
