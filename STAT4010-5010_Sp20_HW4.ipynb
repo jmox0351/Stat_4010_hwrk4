{
 "cells": [
  {
   "cell_type": "markdown",
   "metadata": {},
   "source": [
    "---"
   ]
  },
  {
   "cell_type": "markdown",
   "metadata": {
    "deletable": false,
    "editable": false,
    "nbgrader": {
     "cell_type": "markdown",
     "checksum": "03eb18a94bdd64cbf94b1dbaeb43a996",
     "grade": false,
     "grade_id": "cell-e431bbf33c8255b2",
     "locked": true,
     "schema_version": 3,
     "solution": false,
     "task": false
    }
   },
   "source": [
    "# Homework #4\n",
    "\n",
    "**See Canvas for HW #4 assignment due date**. Complete all of the following problems. Ideally, the theoretical problems should be answered in a Markdown cell directly underneath the question. If you don't know LaTex/Markdown, you may submit separate handwritten solutions to the theoretical problems. Please do not turn in messy work. Computational problems should be completed in this notebook (using the R kernel is preferred). Computational questions may require code, plots, analysis, interpretation, etc. Working in small groups is allowed, but it is important that you make an effort to master the material and hand in your own work. \n",
    "\n"
   ]
  },
  {
   "cell_type": "markdown",
   "metadata": {
    "deletable": false,
    "editable": false,
    "nbgrader": {
     "cell_type": "markdown",
     "checksum": "54d4ecbc559c9064d9b9c28174804e99",
     "grade": false,
     "grade_id": "cell-d6ef34ab9bda95b1",
     "locked": true,
     "schema_version": 3,
     "solution": false,
     "task": false
    }
   },
   "source": [
    "## A. Theoretical Problems"
   ]
  },
  {
   "cell_type": "markdown",
   "metadata": {
    "deletable": false,
    "editable": false,
    "nbgrader": {
     "cell_type": "markdown",
     "checksum": "ecd158614559ae09b2342bb5382ba795",
     "grade": false,
     "grade_id": "cell-02eee4b572de59a1",
     "locked": true,
     "schema_version": 3,
     "solution": false,
     "task": false
    }
   },
   "source": [
    "### Problem A.1\n",
    "\n",
    "#### (a) Prove that $TSS = RSS + ESS$. Recall that $TSS$ is the total sum of squares, $RSS$ is the residual sum of squares, and $ESS$ is the explained (or model or regression) sum of squares. (HINT: you might start with TSS and add a fancy form of 0 somewhere.)\n"
   ]
  },
  {
   "cell_type": "markdown",
   "metadata": {},
   "source": [
    "$TSS = \\sum_{i=1}^n (y_i - \\bar{y})^2$ so completing the square (your clever form of 0) we find $\\sum_{i=1}^n (y_i - \\hat{y}_i + \\hat{y}_i - \\bar{y})^2 = \\sum_{i=1}^n (y_i - \\hat{y}_i)^2 + 2 \\sum_{i=1}^n (y_i - \\hat{y}_i)(\\hat{y}_i - \\bar{y}) + \\sum_{i=1}^n (\\hat{y}_i - \\bar{y})^2 = RSS + ESS + \\sum_{i=1}^n (y_i - \\hat{y}_i)(\\hat{y}_i - \\bar{y})$ Now graphically we know that TSS = RSS + ESS so we need to show that $0 = \\sum_{i=1}^n (y_i - \\hat{y}_i)(\\hat{y}_i - \\bar{y}) = \\sum_{i=1}^n (y_i - \\beta_0 - \\beta_1 x_i)(\\beta_0 + \\beta_1 x_i - \\bar{y})$ This is exactly what we did in homework 3 problem A.2 where we found the partial derivatives and set them equal to 0, which is the mechanism for least squares."
   ]
  },
  {
   "cell_type": "markdown",
   "metadata": {
    "deletable": false,
    "nbgrader": {
     "cell_type": "markdown",
     "checksum": "982424bd3f23feea55c47901b7320bc8",
     "grade": true,
     "grade_id": "cell-40602ca054641faa",
     "locked": false,
     "points": 10,
     "schema_version": 3,
     "solution": true,
     "task": false
    }
   },
   "source": [
    "YOUR ANSWER HERE"
   ]
  },
  {
   "cell_type": "markdown",
   "metadata": {
    "deletable": false,
    "editable": false,
    "nbgrader": {
     "cell_type": "markdown",
     "checksum": "68fa84943b19cdd059526a0304f1b1df",
     "grade": false,
     "grade_id": "cell-76bc7224bc21ce2c",
     "locked": true,
     "schema_version": 3,
     "solution": false,
     "task": false
    }
   },
   "source": [
    "#### (b) Why is the result from part (a) important?"
   ]
  },
  {
   "cell_type": "markdown",
   "metadata": {
    "deletable": false,
    "nbgrader": {
     "cell_type": "markdown",
     "checksum": "72b53138da997a7089f5b79e0785c0e3",
     "grade": true,
     "grade_id": "cell-37f42a78808a8bdd",
     "locked": false,
     "points": 0,
     "schema_version": 3,
     "solution": true,
     "task": false
    }
   },
   "source": [
    "This is proof that the linear model is an unbiased estimator...come back to this one"
   ]
  },
  {
   "cell_type": "markdown",
   "metadata": {
    "deletable": false,
    "editable": false,
    "nbgrader": {
     "cell_type": "markdown",
     "checksum": "6c130fc10aae2243a2fd280c1286dbf8",
     "grade": false,
     "grade_id": "cell-2ef516f9e848ea91",
     "locked": true,
     "schema_version": 3,
     "solution": false,
     "task": false
    }
   },
   "source": [
    "### Problem A.2\n",
    "\n",
    "In class, we derived the prediction interval for a new observation of the response, ${Y}^*$, at a new set of predictors, $\\mathbf{x}^* = (1,x^*_1,...,x^*_p)^T$.  To do so, we had to write down the variance of our point estimate for $Y^*$, denoted $\\widehat{Y}^*$:\n",
    "\n",
    "\\begin{align*}\n",
    "Var(\\widehat{Y}^*) = Var(\\mathbf{x}^{*^T}\\boldsymbol{\\widehat\\beta}) = \\sigma^2\\big(1 + \\mathbf{x}^{*^T}(X^TX)^{-1}\\mathbf{x}^{*}\\big).\n",
    "\\end{align*}\n",
    "\n",
    "For this problem, let's calculate this variance explicitly for simple linear regression (i.e., one predictor: $Y_i = \\beta_0 + \\beta_1x_i + \\varepsilon_i$).\n",
    "\n",
    "#### (a) Assume that $$Cov(\\widehat\\beta_0, \\widehat\\beta_1) = \\frac{-\\sigma^2\\bar{x}}{\\sum^n_{i=1}(x_i-\\bar{x})^2}.$$\n",
    "\n",
    "#### Show that\n",
    "\n",
    "$$Var(\\widehat\\beta_0 + \\widehat\\beta_1x^* + \\varepsilon) = \\sigma^2\\bigg(1 + \\frac{1}{n} + \\frac{(x^* - \\bar{x})^2}{\\sum^n_{i=1}(x_i-\\bar{x})^2} \\bigg) $$ \n",
    "#### where $\\varepsilon \\sim N(0,\\sigma^2)$.\n",
    "\n",
    "\n",
    "HINT: Recall that, if $X$ and $Y$ are random variables and $a$ and $b$ are constants, then $$Var(aX \\pm bY) = a^2Var(X) + b^2Var(Y) \\pm 2abCov(X,Y).$$"
   ]
  },
  {
   "cell_type": "markdown",
   "metadata": {
    "deletable": false,
    "nbgrader": {
     "cell_type": "markdown",
     "checksum": "a22d83c5e4efa20fccaa8947408634c5",
     "grade": true,
     "grade_id": "cell-1ca921781e5dba91",
     "locked": false,
     "points": 4,
     "schema_version": 3,
     "solution": true,
     "task": false
    }
   },
   "source": [
    "from hereon $\\sum_{i=1}^n (x_i - \\bar{x})^2 = s_{xx}$ for the sake of clarity. Then $$Var(\\hat{y}_i) = E(\\hat{y}_i - \\hat{y})^2$$ $$ = E((\\hat{\\beta_0} - \\beta_0)+(x_i - \\bar{x})(\\hat{\\beta_1}-\\beta_1)+(\\hat{\\beta_1}-\\beta_1) \\bar{x} - \\epsilon)^2$$ $$ = Var(\\hat{\\beta_0}) + (x_0 - \\bar{x})^2 Var(\\hat{\\beta_1}) + \\bar{x}^2 Var(\\beta_1) + Var(\\epsilon) + 2(x_i - \\bar{x}) Cov(\\hat{\\beta_0}, \\hat{\\beta_1}) + 2 \\bar{x} Cov(\\hat{\\beta_0}, \\hat{\\beta_1}) + 2(x_i - \\bar{x}) Var(\\beta_1)$$ $$ = Var(\\hat{\\beta_0}) + x_i^2 Var(\\hat{\\beta_1}) + Var(\\epsilon) + 2x_i Cov(\\hat{\\beta_0}, \\hat{\\beta_1})$$ $$ = \\sigma^2 (\\frac{1}{n} + \\frac{\\bar{x}^2}{s_{xx}}) + x_i^2 \\frac{\\sigma^2}{s_{xx}} + \\sigma^2 - 2x_i \\frac{\\bar{x} \\sigma^2}{s_{xx}}$$ $$ = \\sigma^2 (1+ \\frac{1}{n} + \\frac{(x_i - \\bar{x})^2}{s_{xx}})$$"
   ]
  },
  {
   "cell_type": "markdown",
   "metadata": {
    "deletable": false,
    "editable": false,
    "nbgrader": {
     "cell_type": "markdown",
     "checksum": "f9b9aa4d17cd5da824f33dec1e5df073",
     "grade": false,
     "grade_id": "cell-3420e3b032d6351c",
     "locked": true,
     "schema_version": 3,
     "solution": false,
     "task": false
    }
   },
   "source": [
    "#### (b)  <span style=\"color: #CFB87C;\">(STAT 5010 Students Only)</span> Show that $$Cov(\\widehat\\beta_0, \\widehat\\beta_1) = \\frac{-\\sigma^2\\bar{x}}{\\sum^n_{i=1}(x_i-\\bar{x})^2}.$$\n",
    "\n",
    "HINT: What is $(X^TX)^{-1}$ for simple linear regression?"
   ]
  },
  {
   "cell_type": "markdown",
   "metadata": {
    "deletable": false,
    "nbgrader": {
     "cell_type": "markdown",
     "checksum": "9165af94ed8fdd539a5653f79c3d8c4e",
     "grade": true,
     "grade_id": "cell-08edbe3e286b0738",
     "locked": false,
     "points": 4,
     "schema_version": 3,
     "solution": true,
     "task": false
    }
   },
   "source": [
    "YOUR ANSWER HERE"
   ]
  },
  {
   "cell_type": "markdown",
   "metadata": {
    "deletable": false,
    "editable": false,
    "nbgrader": {
     "cell_type": "markdown",
     "checksum": "2755a8760a5d0886bae8841644cb0e3a",
     "grade": false,
     "grade_id": "cell-7daaf7feed1b17f3",
     "locked": true,
     "schema_version": 3,
     "solution": false,
     "task": false
    }
   },
   "source": [
    "### Problem A.3\n",
    "\n",
    "Consider the following two models:\n",
    "\n",
    "\\begin{equation}\n",
    "Y_i = \\beta_0 + \\beta_1X_{i,1} + ... + \\beta_{p}X_{i,p} + \\varepsilon_i, \\,\\,\\,\\,\\,\\,\\, \\text{(M1)}\n",
    "\\end{equation}\n",
    "\n",
    "and\n",
    "\n",
    "\\begin{equation}\n",
    "Y_i = \\beta_0 + \\beta_1X_{i,1} + ... + \\beta_{p}X_{i,p} + \\beta_{p+1}X_{i,(p+1)} + \\varepsilon_i. \\,\\,\\,\\,\\,\\,\\, \\text{(M2)}\n",
    "\\end{equation}\n",
    "\n",
    "\n",
    "Show that $R^2$ for M2 is always greater than $R^2$ for M1, no matter what the added predictor is."
   ]
  },
  {
   "cell_type": "markdown",
   "metadata": {
    "deletable": false,
    "nbgrader": {
     "cell_type": "markdown",
     "checksum": "ee5c880cacf144d4c6174cf1cf231d62",
     "grade": true,
     "grade_id": "cell-0ef21c2d97bf4265",
     "locked": false,
     "points": 8,
     "schema_version": 3,
     "solution": true,
     "task": false
    }
   },
   "source": [
    "YOUR ANSWER HERE"
   ]
  },
  {
   "cell_type": "markdown",
   "metadata": {
    "deletable": false,
    "editable": false,
    "nbgrader": {
     "cell_type": "markdown",
     "checksum": "bf97f6c4431bf4a99716753ec4463fd0",
     "grade": false,
     "grade_id": "cell-13e67f38bd0b2fe2",
     "locked": true,
     "schema_version": 3,
     "solution": false,
     "task": false
    }
   },
   "source": [
    "## B. Computational Problems"
   ]
  },
  {
   "cell_type": "markdown",
   "metadata": {
    "deletable": false,
    "editable": false,
    "nbgrader": {
     "cell_type": "markdown",
     "checksum": "ef2f2b40b8c66eb774616a4d9c70fead",
     "grade": false,
     "grade_id": "cell-ee301cf263dd3220",
     "locked": true,
     "schema_version": 3,
     "solution": false,
     "task": false
    }
   },
   "source": [
    "### Problem B.1\n",
    "\n",
    "#### (a) Load the ${\\tt prostate}$ data into R using the faraway package. The prostate data frame has 97 rows and 9 columns. It comes from a study on 97 men with prostate cancer who were due to receive a radical prostatectomy. Print the head of the data and summary statistics."
   ]
  },
  {
   "cell_type": "code",
   "execution_count": null,
   "metadata": {
    "ExecuteTime": {
     "end_time": "2020-02-19T21:26:39.781533Z",
     "start_time": "2020-02-19T21:26:40.957Z"
    },
    "deletable": false,
    "nbgrader": {
     "cell_type": "code",
     "checksum": "29ef74db54887444cf2923dcf836f8dc",
     "grade": false,
     "grade_id": "cell-928d2aa675439693",
     "locked": false,
     "schema_version": 3,
     "solution": true,
     "task": false
    }
   },
   "outputs": [],
   "source": [
    "# YOUR CODE HERE"
   ]
  },
  {
   "cell_type": "code",
   "execution_count": null,
   "metadata": {
    "ExecuteTime": {
     "end_time": "2020-02-19T21:26:39.795086Z",
     "start_time": "2020-02-19T21:26:40.967Z"
    },
    "deletable": false,
    "editable": false,
    "nbgrader": {
     "cell_type": "code",
     "checksum": "2d90954aa43895de7b9fb347c8ad3e6d",
     "grade": true,
     "grade_id": "cell-0961f2bc53b90b39",
     "locked": true,
     "points": 2,
     "schema_version": 3,
     "solution": false,
     "task": false
    }
   },
   "outputs": [],
   "source": []
  },
  {
   "cell_type": "markdown",
   "metadata": {
    "deletable": false,
    "editable": false,
    "nbgrader": {
     "cell_type": "markdown",
     "checksum": "c8bba958bb3eacd1a019ed6871bacae9",
     "grade": false,
     "grade_id": "cell-200bc477cbd4567b",
     "locked": true,
     "schema_version": 3,
     "solution": false,
     "task": false
    }
   },
   "source": [
    "#### (b) Conduct MLR with lpsa as the response and all of the other variables as predictors. Store this linear model in a variable called $\\tt{lmod}$. Compute the 90% and 95% confidence intervals for the parameter associated with the age variable. Using these intervals, what could we have deduced about the p-value for age in the regression summary?"
   ]
  },
  {
   "cell_type": "code",
   "execution_count": null,
   "metadata": {
    "ExecuteTime": {
     "end_time": "2020-02-19T21:26:39.833759Z",
     "start_time": "2020-02-19T21:26:40.980Z"
    },
    "deletable": false,
    "nbgrader": {
     "cell_type": "code",
     "checksum": "76ee01064db6e9c39762fa579babf8ce",
     "grade": false,
     "grade_id": "cell-bd05e40c8763b2d7",
     "locked": false,
     "schema_version": 3,
     "solution": true,
     "task": false
    }
   },
   "outputs": [],
   "source": [
    "# YOUR CODE HERE"
   ]
  },
  {
   "cell_type": "code",
   "execution_count": null,
   "metadata": {
    "ExecuteTime": {
     "end_time": "2020-02-19T21:26:39.860519Z",
     "start_time": "2020-02-19T21:26:40.990Z"
    },
    "deletable": false,
    "editable": false,
    "nbgrader": {
     "cell_type": "code",
     "checksum": "c49ed8dd48b7288c3391647fb6305a88",
     "grade": true,
     "grade_id": "cell-b919e6d963a51dbe",
     "locked": true,
     "points": 3,
     "schema_version": 3,
     "solution": false,
     "task": false
    }
   },
   "outputs": [],
   "source": []
  },
  {
   "cell_type": "markdown",
   "metadata": {
    "deletable": false,
    "nbgrader": {
     "cell_type": "markdown",
     "checksum": "3ba01da91b3e1905bfa5af9accf8db0c",
     "grade": true,
     "grade_id": "cell-608143943c8d3441",
     "locked": false,
     "points": 3,
     "schema_version": 3,
     "solution": true,
     "task": false
    }
   },
   "source": [
    "YOUR ANSWER HERE"
   ]
  },
  {
   "cell_type": "markdown",
   "metadata": {
    "deletable": false,
    "editable": false,
    "nbgrader": {
     "cell_type": "markdown",
     "checksum": "a4753b15ec482245e5bd758e3377cf21",
     "grade": false,
     "grade_id": "cell-2f7249c2e20b9c82",
     "locked": true,
     "schema_version": 3,
     "solution": false,
     "task": false
    }
   },
   "source": [
    "#### (c) In class, we discussed a reason why conducting several individual hypothesis tests (e.g., t-tests for regression parameters) is problematic. It turns out that computing individual confidence intervals has a similar issue. Instead, we might compute a \"joint confidence region\" for several parameters.  Compute and display the 95% joint confidence region for the parameters associated with age and lbph. Plot the origin on this display. The location of the origin on the display tells us the outcome of certain hypothesis test. State the test and its outcome. \n",
    "\n",
    "The ellipse package and corresponding function should help here. Use the code below (and help files) as a guide."
   ]
  },
  {
   "cell_type": "code",
   "execution_count": null,
   "metadata": {
    "ExecuteTime": {
     "end_time": "2020-02-19T21:26:39.991835Z",
     "start_time": "2020-02-19T21:26:41.011Z"
    },
    "deletable": false,
    "nbgrader": {
     "cell_type": "code",
     "checksum": "37781af23fcdd2721ffaef76c91de9a8",
     "grade": true,
     "grade_id": "cell-a3d502f6e2b1787d",
     "locked": false,
     "points": 0,
     "schema_version": 3,
     "solution": true,
     "task": false
    }
   },
   "outputs": [],
   "source": [
    "# YOUR CODE HERE"
   ]
  },
  {
   "cell_type": "markdown",
   "metadata": {
    "deletable": false,
    "nbgrader": {
     "cell_type": "markdown",
     "checksum": "c0cf9d532dd4ec1e2fd5be64f3b79401",
     "grade": true,
     "grade_id": "cell-7c1cd51c5a977630",
     "locked": false,
     "points": 3,
     "schema_version": 3,
     "solution": true,
     "task": false
    }
   },
   "source": [
    "YOUR ANSWER HERE"
   ]
  },
  {
   "cell_type": "markdown",
   "metadata": {
    "deletable": false,
    "editable": false,
    "nbgrader": {
     "cell_type": "markdown",
     "checksum": "5e6eb8a62a79b809ceb121814d248ce7",
     "grade": false,
     "grade_id": "cell-87e615379ca393cc",
     "locked": true,
     "schema_version": 3,
     "solution": false,
     "task": false
    }
   },
   "source": [
    "#### (d) Remove all predictors that are not significant at the $\\alpha = 0.05$ level. Test this model against the original model. Which model is preferred? Store this model in a variable called $\\tt{lmod2}$."
   ]
  },
  {
   "cell_type": "code",
   "execution_count": null,
   "metadata": {
    "ExecuteTime": {
     "end_time": "2020-02-19T21:26:40.018548Z",
     "start_time": "2020-02-19T21:26:41.026Z"
    },
    "deletable": false,
    "nbgrader": {
     "cell_type": "code",
     "checksum": "c671e7e43f514370fbf06871a7ecf34b",
     "grade": false,
     "grade_id": "cell-1be395f4776598ee",
     "locked": false,
     "schema_version": 3,
     "solution": true,
     "task": false
    }
   },
   "outputs": [],
   "source": [
    "# YOUR CODE HERE"
   ]
  },
  {
   "cell_type": "markdown",
   "metadata": {
    "deletable": false,
    "nbgrader": {
     "cell_type": "markdown",
     "checksum": "f6b8c7a6ebb9593c101b2233166d94ac",
     "grade": true,
     "grade_id": "cell-7441005abc698648",
     "locked": false,
     "points": 3,
     "schema_version": 3,
     "solution": true,
     "task": false
    }
   },
   "source": [
    "YOUR ANSWER HERE"
   ]
  },
  {
   "cell_type": "code",
   "execution_count": null,
   "metadata": {
    "ExecuteTime": {
     "end_time": "2020-02-19T21:26:40.032022Z",
     "start_time": "2020-02-19T21:26:41.041Z"
    },
    "deletable": false,
    "editable": false,
    "nbgrader": {
     "cell_type": "code",
     "checksum": "be80c107bf6f61c1d26699308ee1f698",
     "grade": true,
     "grade_id": "cell-ee67603c7e261262",
     "locked": true,
     "points": 3,
     "schema_version": 3,
     "solution": false,
     "task": false
    }
   },
   "outputs": [],
   "source": []
  },
  {
   "cell_type": "markdown",
   "metadata": {
    "deletable": false,
    "editable": false,
    "nbgrader": {
     "cell_type": "markdown",
     "checksum": "ff4212d8a68ef7ad5e107265478ebddd",
     "grade": false,
     "grade_id": "cell-4ddbdc2bdf7346d5",
     "locked": true,
     "schema_version": 3,
     "solution": false,
     "task": false
    }
   },
   "source": [
    "### Problem B.2\n",
    "\n",
    "This [link](https://www.colorado.edu/amath/sites/default/files/attached-files/advertising.txt) contains advertising data. This dataset contains, in thousands of dollars, TV, Radio, and Newspaper budgets for 200 different markets along with the Sales, in thousands of units, for each market.\n",
    "\n",
    "#### (a) Load the dataset using the link above and split the data into a training set and a test set, as done in the previous homework. (Remove the variable X.)"
   ]
  },
  {
   "cell_type": "code",
   "execution_count": 1,
   "metadata": {
    "ExecuteTime": {
     "end_time": "2020-02-19T21:26:40.263173Z",
     "start_time": "2020-02-19T21:26:41.054Z"
    },
    "deletable": false,
    "editable": false,
    "nbgrader": {
     "cell_type": "code",
     "checksum": "c191a05d6b98079223331cdb598ce372",
     "grade": false,
     "grade_id": "cell-c2d2bdfaa89efa45",
     "locked": true,
     "schema_version": 3,
     "solution": false,
     "task": false
    }
   },
   "outputs": [
    {
     "name": "stderr",
     "output_type": "stream",
     "text": [
      "Registered S3 methods overwritten by 'ggplot2':\n",
      "  method         from \n",
      "  [.quosures     rlang\n",
      "  c.quosures     rlang\n",
      "  print.quosures rlang\n",
      "Registered S3 method overwritten by 'rvest':\n",
      "  method            from\n",
      "  read_xml.response xml2\n",
      "── Attaching packages ─────────────────────────────────────── tidyverse 1.2.1 ──\n",
      "✔ ggplot2 3.1.1       ✔ purrr   0.3.2  \n",
      "✔ tibble  2.1.1       ✔ dplyr   0.8.0.1\n",
      "✔ tidyr   0.8.3       ✔ stringr 1.4.0  \n",
      "✔ readr   1.3.1       ✔ forcats 0.4.0  \n",
      "── Conflicts ────────────────────────────────────────── tidyverse_conflicts() ──\n",
      "✖ dplyr::filter() masks stats::filter()\n",
      "✖ dplyr::lag()    masks stats::lag()\n",
      "\n",
      "Attaching package: ‘broom’\n",
      "\n",
      "The following object is masked from ‘package:modelr’:\n",
      "\n",
      "    bootstrap\n",
      "\n"
     ]
    },
    {
     "data": {
      "text/html": [
       "<table>\n",
       "<thead><tr><th></th><th scope=col>TV</th><th scope=col>radio</th><th scope=col>newspaper</th><th scope=col>sales</th></tr></thead>\n",
       "<tbody>\n",
       "\t<tr><th scope=row>34</th><td>265.6</td><td>20.0 </td><td> 0.3 </td><td>17.4 </td></tr>\n",
       "\t<tr><th scope=row>184</th><td>287.6</td><td>43.0 </td><td>71.8 </td><td>26.2 </td></tr>\n",
       "\t<tr><th scope=row>153</th><td>197.6</td><td>23.3 </td><td>14.2 </td><td>16.6 </td></tr>\n",
       "\t<tr><th scope=row>144</th><td>104.6</td><td> 5.7 </td><td>34.4 </td><td>10.4 </td></tr>\n",
       "\t<tr><th scope=row>113</th><td>175.7</td><td>15.4 </td><td> 2.4 </td><td>14.1 </td></tr>\n",
       "\t<tr><th scope=row>37</th><td>266.9</td><td>43.8 </td><td> 5.0 </td><td>25.4 </td></tr>\n",
       "</tbody>\n",
       "</table>\n"
      ],
      "text/latex": [
       "\\begin{tabular}{r|llll}\n",
       "  & TV & radio & newspaper & sales\\\\\n",
       "\\hline\n",
       "\t34 & 265.6 & 20.0  &  0.3  & 17.4 \\\\\n",
       "\t184 & 287.6 & 43.0  & 71.8  & 26.2 \\\\\n",
       "\t153 & 197.6 & 23.3  & 14.2  & 16.6 \\\\\n",
       "\t144 & 104.6 &  5.7  & 34.4  & 10.4 \\\\\n",
       "\t113 & 175.7 & 15.4  &  2.4  & 14.1 \\\\\n",
       "\t37 & 266.9 & 43.8  &  5.0  & 25.4 \\\\\n",
       "\\end{tabular}\n"
      ],
      "text/markdown": [
       "\n",
       "| <!--/--> | TV | radio | newspaper | sales |\n",
       "|---|---|---|---|---|\n",
       "| 34 | 265.6 | 20.0  |  0.3  | 17.4  |\n",
       "| 184 | 287.6 | 43.0  | 71.8  | 26.2  |\n",
       "| 153 | 197.6 | 23.3  | 14.2  | 16.6  |\n",
       "| 144 | 104.6 |  5.7  | 34.4  | 10.4  |\n",
       "| 113 | 175.7 | 15.4  |  2.4  | 14.1  |\n",
       "| 37 | 266.9 | 43.8  |  5.0  | 25.4  |\n",
       "\n"
      ],
      "text/plain": [
       "    TV    radio newspaper sales\n",
       "34  265.6 20.0   0.3      17.4 \n",
       "184 287.6 43.0  71.8      26.2 \n",
       "153 197.6 23.3  14.2      16.6 \n",
       "144 104.6  5.7  34.4      10.4 \n",
       "113 175.7 15.4   2.4      14.1 \n",
       "37  266.9 43.8   5.0      25.4 "
      ]
     },
     "metadata": {},
     "output_type": "display_data"
    }
   ],
   "source": [
    "library(tidyverse)  # data manipulation and visualization\n",
    "library(modelr)     # provides easy pipeline modeling functions\n",
    "library(broom)      # helps to tidy up model outputs\n",
    "\n",
    "# Load data (remove row numbers included as X1 variable)\n",
    "adv = read.csv(\"https://www.colorado.edu/amath/sites/default/files/attached-files/advertising.txt\", sep = \"\\t\")\n",
    "adv = adv[,-1]\n",
    "set.seed(11)\n",
    "n = floor(0.8 * nrow(adv))\n",
    "index = sample(seq_len(nrow(adv)), size = n)\n",
    "\n",
    "train = adv[index, ]\n",
    "test = adv[-index, ]\n",
    "head(train)"
   ]
  },
  {
   "cell_type": "markdown",
   "metadata": {
    "deletable": false,
    "editable": false,
    "nbgrader": {
     "cell_type": "markdown",
     "checksum": "01cb5e9c5907cde3f4dbe4324772d55d",
     "grade": false,
     "grade_id": "cell-3295deb33e8abc32",
     "locked": true,
     "schema_version": 3,
     "solution": false,
     "task": false
    }
   },
   "source": [
    "#### (b) Fit the full MLR model. Which variables are statistically significant at the 5% level? Discuss the difference between statistical and practical significance in this context. Also, the estimate for newspaper is negative. Do you actually think that sales *suffer* as a result of newspaper advertising? Store the MLR model object in a variable $\\tt{lmod}$."
   ]
  },
  {
   "cell_type": "code",
   "execution_count": null,
   "metadata": {
    "ExecuteTime": {
     "end_time": "2020-02-19T21:26:40.278942Z",
     "start_time": "2020-02-19T21:26:41.066Z"
    },
    "deletable": false,
    "nbgrader": {
     "cell_type": "code",
     "checksum": "b37f5f1f4278bf990525783929881f9e",
     "grade": false,
     "grade_id": "cell-3d1e63f84b6ae165",
     "locked": false,
     "schema_version": 3,
     "solution": true,
     "task": false
    }
   },
   "outputs": [],
   "source": [
    "# YOUR CODE HERE"
   ]
  },
  {
   "cell_type": "markdown",
   "metadata": {
    "deletable": false,
    "nbgrader": {
     "cell_type": "markdown",
     "checksum": "3d73e4fec59c3bd30f5d118702046fc8",
     "grade": true,
     "grade_id": "cell-35b6c25d2fd49396",
     "locked": false,
     "points": 3,
     "schema_version": 3,
     "solution": true,
     "task": false
    }
   },
   "source": [
    "YOUR ANSWER HERE"
   ]
  },
  {
   "cell_type": "code",
   "execution_count": null,
   "metadata": {
    "ExecuteTime": {
     "end_time": "2020-02-19T21:26:40.292752Z",
     "start_time": "2020-02-19T21:26:41.077Z"
    },
    "deletable": false,
    "editable": false,
    "nbgrader": {
     "cell_type": "code",
     "checksum": "4df4f69df8da2fa8fa5789428b6e4334",
     "grade": true,
     "grade_id": "cell-3d810f4f9cb56649",
     "locked": true,
     "points": 3,
     "schema_version": 3,
     "solution": false,
     "task": false
    }
   },
   "outputs": [],
   "source": []
  },
  {
   "cell_type": "markdown",
   "metadata": {
    "deletable": false,
    "editable": false,
    "nbgrader": {
     "cell_type": "markdown",
     "checksum": "1f70cf71695657fdd5b0f3e56e49bf0a",
     "grade": false,
     "grade_id": "cell-15844c8ddde852d1",
     "locked": true,
     "schema_version": 3,
     "solution": false,
     "task": false
    }
   },
   "source": [
    "#### (c) Imagine that, in your test set, you don't have any response measurements. Compute predictions--including 95% *prediction* intervals--of sales for all measurements in your test set. Print the prediction MSE and the first five prediction intervals. Store the prediction MSE in a variable named $\\tt{mseTest}$."
   ]
  },
  {
   "cell_type": "code",
   "execution_count": null,
   "metadata": {
    "ExecuteTime": {
     "end_time": "2020-02-19T21:26:40.312930Z",
     "start_time": "2020-02-19T21:26:41.090Z"
    },
    "deletable": false,
    "nbgrader": {
     "cell_type": "code",
     "checksum": "a7f64dd4ddf8b59303c0b2217e732270",
     "grade": false,
     "grade_id": "cell-79c3a5fa2f622865",
     "locked": false,
     "schema_version": 3,
     "solution": true,
     "task": false
    }
   },
   "outputs": [],
   "source": [
    "# YOUR CODE HERE"
   ]
  },
  {
   "cell_type": "code",
   "execution_count": null,
   "metadata": {
    "ExecuteTime": {
     "end_time": "2020-02-19T21:26:40.330795Z",
     "start_time": "2020-02-19T21:26:41.101Z"
    },
    "deletable": false,
    "editable": false,
    "nbgrader": {
     "cell_type": "code",
     "checksum": "07a842221a3a92c152765e985b226330",
     "grade": true,
     "grade_id": "cell-a4f841dd5229f8f7",
     "locked": true,
     "points": 3,
     "schema_version": 3,
     "solution": false,
     "task": false
    }
   },
   "outputs": [],
   "source": []
  },
  {
   "cell_type": "markdown",
   "metadata": {
    "deletable": false,
    "editable": false,
    "nbgrader": {
     "cell_type": "markdown",
     "checksum": "bca9a23a0c451c51cc8c70050a38c0b1",
     "grade": false,
     "grade_id": "cell-c2df7cc6283cef33",
     "locked": true,
     "schema_version": 3,
     "solution": false,
     "task": false
    }
   },
   "source": [
    "#### (d) Add some polynomial terms to the model. Specifically, add $TV^2$ and $radio^2$ to the model. To do this, you'll need to use the I() function: I(predictor^2). Comment on the significance of these terms. Assume $\\alpha = 0.05$. Store this new model in a variable named $\\tt{lmodquad}$."
   ]
  },
  {
   "cell_type": "code",
   "execution_count": null,
   "metadata": {
    "ExecuteTime": {
     "end_time": "2020-02-19T21:26:40.346272Z",
     "start_time": "2020-02-19T21:26:41.112Z"
    },
    "deletable": false,
    "nbgrader": {
     "cell_type": "code",
     "checksum": "2572fe7320c624073d62998af33113f7",
     "grade": false,
     "grade_id": "cell-363832be407f275e",
     "locked": false,
     "schema_version": 3,
     "solution": true,
     "task": false
    }
   },
   "outputs": [],
   "source": [
    "# YOUR CODE HERE"
   ]
  },
  {
   "cell_type": "markdown",
   "metadata": {
    "deletable": false,
    "nbgrader": {
     "cell_type": "markdown",
     "checksum": "c402b1642d59cd13a4a7eae50869f0ac",
     "grade": true,
     "grade_id": "cell-6003a0814aaaa564",
     "locked": false,
     "points": 3,
     "schema_version": 3,
     "solution": true,
     "task": false
    }
   },
   "source": [
    "YOUR ANSWER HERE"
   ]
  },
  {
   "cell_type": "code",
   "execution_count": null,
   "metadata": {
    "ExecuteTime": {
     "end_time": "2020-02-19T21:26:40.361403Z",
     "start_time": "2020-02-19T21:26:41.126Z"
    },
    "deletable": false,
    "editable": false,
    "nbgrader": {
     "cell_type": "code",
     "checksum": "3cac0bcf48d5f061b30eeda310add28d",
     "grade": true,
     "grade_id": "cell-32c86cf084d6a075",
     "locked": true,
     "points": 3,
     "schema_version": 3,
     "solution": false,
     "task": false
    }
   },
   "outputs": [],
   "source": []
  },
  {
   "cell_type": "markdown",
   "metadata": {
    "deletable": false,
    "editable": false,
    "nbgrader": {
     "cell_type": "markdown",
     "checksum": "2bb23d899d7021316c335c19e4ba3cf3",
     "grade": false,
     "grade_id": "cell-63948c80bf73baa1",
     "locked": true,
     "schema_version": 3,
     "solution": false,
     "task": false
    }
   },
   "source": [
    "#### (e) Is it surprising that $R^2$ increased from the model in (c) to the model in (d)? Explain why or why not."
   ]
  },
  {
   "cell_type": "markdown",
   "metadata": {
    "collapsed": true,
    "deletable": false,
    "nbgrader": {
     "cell_type": "markdown",
     "checksum": "8da9af413183fe1863c8e89929d39762",
     "grade": true,
     "grade_id": "cell-c2a2ca3b194aa2dd",
     "locked": false,
     "points": 3,
     "schema_version": 3,
     "solution": true,
     "task": false
    }
   },
   "source": [
    "YOUR ANSWER HERE"
   ]
  },
  {
   "cell_type": "markdown",
   "metadata": {
    "deletable": false,
    "editable": false,
    "nbgrader": {
     "cell_type": "markdown",
     "checksum": "8bde4443daebd46bec5bbde75c27e718",
     "grade": false,
     "grade_id": "cell-7455cf9bc5911629",
     "locked": true,
     "schema_version": 3,
     "solution": false,
     "task": false
    }
   },
   "source": [
    "#### (f) Conduct a test (not just individual t-tests) to decide whether you should keep the quadratic terms in your model. Explain your choice."
   ]
  },
  {
   "cell_type": "code",
   "execution_count": null,
   "metadata": {
    "ExecuteTime": {
     "end_time": "2020-02-19T21:26:40.376223Z",
     "start_time": "2020-02-19T21:26:41.140Z"
    },
    "deletable": false,
    "nbgrader": {
     "cell_type": "code",
     "checksum": "02ab50e8a4173efb674ebc8b1d168b71",
     "grade": false,
     "grade_id": "cell-b262ae013ed11b8b",
     "locked": false,
     "schema_version": 3,
     "solution": true,
     "task": false
    }
   },
   "outputs": [],
   "source": [
    "# YOUR CODE HERE"
   ]
  },
  {
   "cell_type": "markdown",
   "metadata": {
    "deletable": false,
    "nbgrader": {
     "cell_type": "markdown",
     "checksum": "1274394c37796ee149d8aa28bef66c4e",
     "grade": true,
     "grade_id": "cell-7c71f6f93f06f486",
     "locked": false,
     "points": 3,
     "schema_version": 3,
     "solution": true,
     "task": false
    }
   },
   "source": [
    "YOUR ANSWER HERE"
   ]
  },
  {
   "cell_type": "code",
   "execution_count": null,
   "metadata": {
    "ExecuteTime": {
     "end_time": "2020-02-19T21:26:40.389793Z",
     "start_time": "2020-02-19T21:26:41.151Z"
    },
    "deletable": false,
    "editable": false,
    "nbgrader": {
     "cell_type": "code",
     "checksum": "0c813a11ef9e26e14db02467b55ae36b",
     "grade": true,
     "grade_id": "cell-8421cfe4d2443ba7",
     "locked": true,
     "points": 2,
     "schema_version": 3,
     "solution": false,
     "task": false
    }
   },
   "outputs": [],
   "source": []
  },
  {
   "cell_type": "markdown",
   "metadata": {
    "deletable": false,
    "editable": false,
    "nbgrader": {
     "cell_type": "markdown",
     "checksum": "f24636edcf05fa9530ae68a4e67ffa2a",
     "grade": false,
     "grade_id": "cell-687495e92c4c15bb",
     "locked": true,
     "schema_version": 3,
     "solution": false,
     "task": false
    }
   },
   "source": [
    "#### (g) Similar to part (c), recalculate the prediction MSE for the model with the quadratic terms, $\\tt{lmodquad}$. How does the prediction MSE of this model compare to the one in part (c)? Store this new prediction MSE in a variable called $\\tt{mseTest2}$."
   ]
  },
  {
   "cell_type": "code",
   "execution_count": null,
   "metadata": {
    "ExecuteTime": {
     "end_time": "2020-02-19T21:26:40.413236Z",
     "start_time": "2020-02-19T21:26:41.164Z"
    },
    "deletable": false,
    "nbgrader": {
     "cell_type": "code",
     "checksum": "72465e6501f0fc332e96157b28404e69",
     "grade": false,
     "grade_id": "cell-6f425ba0dd0bfa6a",
     "locked": false,
     "schema_version": 3,
     "solution": true,
     "task": false
    }
   },
   "outputs": [],
   "source": [
    "# YOUR CODE HERE"
   ]
  },
  {
   "cell_type": "markdown",
   "metadata": {
    "deletable": false,
    "nbgrader": {
     "cell_type": "markdown",
     "checksum": "fd9efe81ac59eb2d8a6cf5408d9a10cf",
     "grade": true,
     "grade_id": "cell-1a7363e2772aef01",
     "locked": false,
     "points": 3,
     "schema_version": 3,
     "solution": true,
     "task": false
    }
   },
   "source": [
    "YOUR ANSWER HERE"
   ]
  },
  {
   "cell_type": "code",
   "execution_count": null,
   "metadata": {
    "ExecuteTime": {
     "end_time": "2020-02-19T21:26:40.431660Z",
     "start_time": "2020-02-19T21:26:41.175Z"
    },
    "deletable": false,
    "editable": false,
    "nbgrader": {
     "cell_type": "code",
     "checksum": "50bb98b6b7e0ad3e4a45c50486509115",
     "grade": true,
     "grade_id": "cell-9d5344e339e2b820",
     "locked": true,
     "points": 3,
     "schema_version": 3,
     "solution": false,
     "task": false
    }
   },
   "outputs": [],
   "source": []
  },
  {
   "cell_type": "markdown",
   "metadata": {
    "deletable": false,
    "editable": false,
    "nbgrader": {
     "cell_type": "markdown",
     "checksum": "ba477b751cb2ac3a4bc574be34735be0",
     "grade": false,
     "grade_id": "cell-92a6d7c61c60c5fb",
     "locked": true,
     "schema_version": 3,
     "solution": false,
     "task": false
    }
   },
   "source": [
    "#### (h) For the full MLE model (with no quadratic terms):\n",
    "\n",
    "1. Plot the residuals (y) against the fitted values (x). What do you notice? Is this what you would expect if the model is formulated correctly? \n",
    "\n",
    "2. Produce a normal QQ-plot of the residuals. If the points of the QQ-plot roughly follow the line $y = x$, then we don't have evidence against normality of the residuals. How does the QQ-plot look for these residuals?"
   ]
  },
  {
   "cell_type": "code",
   "execution_count": null,
   "metadata": {
    "deletable": false,
    "nbgrader": {
     "cell_type": "code",
     "checksum": "0f45bf269632ce313cfae10df3c415b0",
     "grade": true,
     "grade_id": "cell-28e85c6502823de5",
     "locked": false,
     "points": 4,
     "schema_version": 3,
     "solution": true,
     "task": false
    }
   },
   "outputs": [],
   "source": [
    "# YOUR CODE HERE"
   ]
  },
  {
   "cell_type": "markdown",
   "metadata": {
    "ExecuteTime": {
     "end_time": "2020-02-19T20:55:45.972815Z",
     "start_time": "2020-02-19T20:55:46.281Z"
    },
    "deletable": false,
    "nbgrader": {
     "cell_type": "markdown",
     "checksum": "c15455fa6d25e739d09c92b03267fcfe",
     "grade": true,
     "grade_id": "cell-7e4070119659419f",
     "locked": false,
     "points": 4,
     "schema_version": 3,
     "solution": true,
     "task": false
    }
   },
   "source": [
    "YOUR ANSWER HERE"
   ]
  }
 ],
 "metadata": {
  "kernelspec": {
   "display_name": "R",
   "language": "R",
   "name": "ir"
  },
  "language_info": {
   "codemirror_mode": "r",
   "file_extension": ".r",
   "mimetype": "text/x-r-source",
   "name": "R",
   "pygments_lexer": "r",
   "version": "3.6.1"
  }
 },
 "nbformat": 4,
 "nbformat_minor": 2
}
